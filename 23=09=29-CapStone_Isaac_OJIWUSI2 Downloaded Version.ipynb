{
 "cells": [
  {
   "cell_type": "code",
   "execution_count": 1,
   "id": "c0476d07",
   "metadata": {},
   "outputs": [
    {
     "data": {
      "text/plain": [
       "Index(['age', 'job', 'marital', 'education', 'default', 'balance', 'housing',\n",
       "       'loan', 'contact', 'day', 'month', 'duration', 'campaign', 'pdays',\n",
       "       'previous', 'poutcome', 'Target'],\n",
       "      dtype='object')"
      ]
     },
     "execution_count": 1,
     "metadata": {},
     "output_type": "execute_result"
    }
   ],
   "source": [
    "import numpy as np\n",
    "import pandas as pd\n",
    "import matplotlib as plt\n",
    "import seaborn as sns\n",
    "%matplotlib inline\n",
    "df = pd.read_csv('bank-subscribed_19.csv')\n",
    "df.columns"
   ]
  },
  {
   "cell_type": "markdown",
   "id": "e47955b1",
   "metadata": {},
   "source": [
    "# 1.a) Analyse data types of features and verify they hold data same as that of their datatype. Update if required."
   ]
  },
  {
   "cell_type": "code",
   "execution_count": 2,
   "id": "f7307923",
   "metadata": {},
   "outputs": [
    {
     "name": "stdout",
     "output_type": "stream",
     "text": [
      "age            int64\n",
      "job           object\n",
      "marital       object\n",
      "education     object\n",
      "default       object\n",
      "balance        int64\n",
      "housing       object\n",
      "loan          object\n",
      "contact      float64\n",
      "day            int64\n",
      "month         object\n",
      "duration       int64\n",
      "campaign     float64\n",
      "pdays        float64\n",
      "previous     float64\n",
      "poutcome     float64\n",
      "Target        object\n",
      "dtype: object (8041, 17)\n",
      "17\n"
     ]
    }
   ],
   "source": [
    "print(df.dtypes, df.shape)\n",
    "print(len(df.columns))"
   ]
  },
  {
   "cell_type": "code",
   "execution_count": 3,
   "id": "00a3a98e",
   "metadata": {},
   "outputs": [
    {
     "data": {
      "text/html": [
       "<div>\n",
       "<style scoped>\n",
       "    .dataframe tbody tr th:only-of-type {\n",
       "        vertical-align: middle;\n",
       "    }\n",
       "\n",
       "    .dataframe tbody tr th {\n",
       "        vertical-align: top;\n",
       "    }\n",
       "\n",
       "    .dataframe thead th {\n",
       "        text-align: right;\n",
       "    }\n",
       "</style>\n",
       "<table border=\"1\" class=\"dataframe\">\n",
       "  <thead>\n",
       "    <tr style=\"text-align: right;\">\n",
       "      <th></th>\n",
       "      <th>age</th>\n",
       "      <th>job</th>\n",
       "      <th>marital</th>\n",
       "      <th>education</th>\n",
       "      <th>default</th>\n",
       "      <th>balance</th>\n",
       "      <th>housing</th>\n",
       "      <th>loan</th>\n",
       "      <th>contact</th>\n",
       "      <th>day</th>\n",
       "      <th>month</th>\n",
       "      <th>duration</th>\n",
       "      <th>campaign</th>\n",
       "      <th>pdays</th>\n",
       "      <th>previous</th>\n",
       "      <th>poutcome</th>\n",
       "      <th>Target</th>\n",
       "    </tr>\n",
       "  </thead>\n",
       "  <tbody>\n",
       "    <tr>\n",
       "      <th>0</th>\n",
       "      <td>58</td>\n",
       "      <td>management</td>\n",
       "      <td>married</td>\n",
       "      <td>tertiary</td>\n",
       "      <td>no</td>\n",
       "      <td>2143</td>\n",
       "      <td>yes</td>\n",
       "      <td>no</td>\n",
       "      <td>NaN</td>\n",
       "      <td>5</td>\n",
       "      <td>may</td>\n",
       "      <td>261</td>\n",
       "      <td>1.0</td>\n",
       "      <td>-1.0</td>\n",
       "      <td>0.0</td>\n",
       "      <td>NaN</td>\n",
       "      <td>no</td>\n",
       "    </tr>\n",
       "    <tr>\n",
       "      <th>1</th>\n",
       "      <td>44</td>\n",
       "      <td>technician</td>\n",
       "      <td>single</td>\n",
       "      <td>secondary</td>\n",
       "      <td>no</td>\n",
       "      <td>29</td>\n",
       "      <td>yes</td>\n",
       "      <td>no</td>\n",
       "      <td>NaN</td>\n",
       "      <td>5</td>\n",
       "      <td>may</td>\n",
       "      <td>151</td>\n",
       "      <td>1.0</td>\n",
       "      <td>-1.0</td>\n",
       "      <td>0.0</td>\n",
       "      <td>NaN</td>\n",
       "      <td>no</td>\n",
       "    </tr>\n",
       "    <tr>\n",
       "      <th>2</th>\n",
       "      <td>33</td>\n",
       "      <td>entrepreneur</td>\n",
       "      <td>married</td>\n",
       "      <td>secondary</td>\n",
       "      <td>no</td>\n",
       "      <td>2</td>\n",
       "      <td>yes</td>\n",
       "      <td>yes</td>\n",
       "      <td>NaN</td>\n",
       "      <td>5</td>\n",
       "      <td>may</td>\n",
       "      <td>76</td>\n",
       "      <td>1.0</td>\n",
       "      <td>-1.0</td>\n",
       "      <td>0.0</td>\n",
       "      <td>NaN</td>\n",
       "      <td>no</td>\n",
       "    </tr>\n",
       "    <tr>\n",
       "      <th>3</th>\n",
       "      <td>47</td>\n",
       "      <td>blue-collar</td>\n",
       "      <td>married</td>\n",
       "      <td>NaN</td>\n",
       "      <td>no</td>\n",
       "      <td>1506</td>\n",
       "      <td>yes</td>\n",
       "      <td>no</td>\n",
       "      <td>NaN</td>\n",
       "      <td>5</td>\n",
       "      <td>may</td>\n",
       "      <td>92</td>\n",
       "      <td>1.0</td>\n",
       "      <td>-1.0</td>\n",
       "      <td>0.0</td>\n",
       "      <td>NaN</td>\n",
       "      <td>no</td>\n",
       "    </tr>\n",
       "    <tr>\n",
       "      <th>4</th>\n",
       "      <td>33</td>\n",
       "      <td>NaN</td>\n",
       "      <td>single</td>\n",
       "      <td>NaN</td>\n",
       "      <td>no</td>\n",
       "      <td>1</td>\n",
       "      <td>no</td>\n",
       "      <td>no</td>\n",
       "      <td>NaN</td>\n",
       "      <td>5</td>\n",
       "      <td>may</td>\n",
       "      <td>198</td>\n",
       "      <td>1.0</td>\n",
       "      <td>-1.0</td>\n",
       "      <td>0.0</td>\n",
       "      <td>NaN</td>\n",
       "      <td>no</td>\n",
       "    </tr>\n",
       "  </tbody>\n",
       "</table>\n",
       "</div>"
      ],
      "text/plain": [
       "   age           job  marital  education default  balance housing loan  \\\n",
       "0   58    management  married   tertiary      no     2143     yes   no   \n",
       "1   44    technician   single  secondary      no       29     yes   no   \n",
       "2   33  entrepreneur  married  secondary      no        2     yes  yes   \n",
       "3   47   blue-collar  married        NaN      no     1506     yes   no   \n",
       "4   33           NaN   single        NaN      no        1      no   no   \n",
       "\n",
       "   contact  day month  duration  campaign  pdays  previous  poutcome Target  \n",
       "0      NaN    5   may       261       1.0   -1.0       0.0       NaN     no  \n",
       "1      NaN    5   may       151       1.0   -1.0       0.0       NaN     no  \n",
       "2      NaN    5   may        76       1.0   -1.0       0.0       NaN     no  \n",
       "3      NaN    5   may        92       1.0   -1.0       0.0       NaN     no  \n",
       "4      NaN    5   may       198       1.0   -1.0       0.0       NaN     no  "
      ]
     },
     "execution_count": 3,
     "metadata": {},
     "output_type": "execute_result"
    }
   ],
   "source": [
    "df.head()"
   ]
  },
  {
   "cell_type": "code",
   "execution_count": 4,
   "id": "3815ca78",
   "metadata": {},
   "outputs": [],
   "source": [
    "df[['job', 'marital', 'education', 'default', 'housing', 'loan', 'month', 'Target']] = df[['job', 'marital', 'education', 'default', 'housing', 'loan', 'month', 'Target']].astype('category')"
   ]
  },
  {
   "cell_type": "code",
   "execution_count": 5,
   "id": "66f15804",
   "metadata": {},
   "outputs": [
    {
     "data": {
      "text/plain": [
       "age             int64\n",
       "job          category\n",
       "marital      category\n",
       "education    category\n",
       "default      category\n",
       "balance         int64\n",
       "housing      category\n",
       "loan         category\n",
       "contact       float64\n",
       "day             int64\n",
       "month        category\n",
       "duration        int64\n",
       "campaign      float64\n",
       "pdays         float64\n",
       "previous      float64\n",
       "poutcome      float64\n",
       "Target       category\n",
       "dtype: object"
      ]
     },
     "execution_count": 5,
     "metadata": {},
     "output_type": "execute_result"
    }
   ],
   "source": [
    "df.dtypes"
   ]
  },
  {
   "cell_type": "code",
   "execution_count": 6,
   "id": "43b2de21",
   "metadata": {},
   "outputs": [
    {
     "data": {
      "text/plain": [
       "array([58, 44, 33, 47, 35, 28, 42, 43, 41, 29, 53, 57, 51, 45, 60, 56, 32,\n",
       "       25, 40, 39, 52, 46, 36, 49, 59, 37, 50, 54, 55, 48, 24, 38, 31, 30,\n",
       "       27, 34, 23, 26, 61, 22, 21, 20], dtype=int64)"
      ]
     },
     "execution_count": 6,
     "metadata": {},
     "output_type": "execute_result"
    }
   ],
   "source": [
    "df['age'].unique()\n",
    "# df['marital'].unique()"
   ]
  },
  {
   "cell_type": "markdown",
   "id": "a08fedb4",
   "metadata": {},
   "source": [
    "# 1b.) Checking for NAN Values in data using .isna"
   ]
  },
  {
   "cell_type": "code",
   "execution_count": 7,
   "id": "b3d6d958",
   "metadata": {},
   "outputs": [
    {
     "name": "stdout",
     "output_type": "stream",
     "text": [
      "        age    job  marital  education  default  balance  housing   loan  \\\n",
      "0     False  False    False      False    False    False    False  False   \n",
      "1     False  False    False      False    False    False    False  False   \n",
      "2     False  False    False      False    False    False    False  False   \n",
      "3     False  False    False       True    False    False    False  False   \n",
      "4     False   True    False       True    False    False    False  False   \n",
      "...     ...    ...      ...        ...      ...      ...      ...    ...   \n",
      "8036  False  False    False      False    False    False    False  False   \n",
      "8037  False  False    False      False    False    False    False  False   \n",
      "8038  False  False    False      False    False    False    False  False   \n",
      "8039  False  False    False      False    False    False    False  False   \n",
      "8040  False  False    False      False    False    False    False  False   \n",
      "\n",
      "      contact    day  month  duration  campaign  pdays  previous  poutcome  \\\n",
      "0        True  False  False     False     False  False     False      True   \n",
      "1        True  False  False     False     False  False     False      True   \n",
      "2        True  False  False     False     False  False     False      True   \n",
      "3        True  False  False     False     False  False     False      True   \n",
      "4        True  False  False     False     False  False     False      True   \n",
      "...       ...    ...    ...       ...       ...    ...       ...       ...   \n",
      "8036     True  False  False     False     False  False     False      True   \n",
      "8037     True  False  False     False     False  False     False      True   \n",
      "8038     True  False  False     False     False  False     False      True   \n",
      "8039     True  False  False     False     False  False     False      True   \n",
      "8040     True  False  False     False      True   True      True      True   \n",
      "\n",
      "      Target  \n",
      "0      False  \n",
      "1      False  \n",
      "2      False  \n",
      "3      False  \n",
      "4      False  \n",
      "...      ...  \n",
      "8036   False  \n",
      "8037   False  \n",
      "8038   False  \n",
      "8039   False  \n",
      "8040    True  \n",
      "\n",
      "[8041 rows x 17 columns]\n"
     ]
    }
   ],
   "source": [
    "# Handling Missing values (NaN)\n",
    "print(df.isna())"
   ]
  },
  {
   "cell_type": "code",
   "execution_count": 8,
   "id": "758f6857",
   "metadata": {},
   "outputs": [
    {
     "name": "stdout",
     "output_type": "stream",
     "text": [
      "age             0\n",
      "job            22\n",
      "marital         0\n",
      "education     377\n",
      "default         0\n",
      "balance         0\n",
      "housing         0\n",
      "loan            0\n",
      "contact      8041\n",
      "day             0\n",
      "month           0\n",
      "duration        0\n",
      "campaign        1\n",
      "pdays           1\n",
      "previous        1\n",
      "poutcome     8041\n",
      "Target          1\n",
      "dtype: int64\n"
     ]
    }
   ],
   "source": [
    "print(df.isna().sum())"
   ]
  },
  {
   "cell_type": "code",
   "execution_count": 9,
   "id": "76771ca2",
   "metadata": {},
   "outputs": [
    {
     "name": "stdout",
     "output_type": "stream",
     "text": [
      "(8041, 9)\n"
     ]
    },
    {
     "data": {
      "text/html": [
       "<div>\n",
       "<style scoped>\n",
       "    .dataframe tbody tr th:only-of-type {\n",
       "        vertical-align: middle;\n",
       "    }\n",
       "\n",
       "    .dataframe tbody tr th {\n",
       "        vertical-align: top;\n",
       "    }\n",
       "\n",
       "    .dataframe thead th {\n",
       "        text-align: right;\n",
       "    }\n",
       "</style>\n",
       "<table border=\"1\" class=\"dataframe\">\n",
       "  <thead>\n",
       "    <tr style=\"text-align: right;\">\n",
       "      <th></th>\n",
       "      <th>age</th>\n",
       "      <th>marital</th>\n",
       "      <th>default</th>\n",
       "      <th>balance</th>\n",
       "      <th>housing</th>\n",
       "      <th>loan</th>\n",
       "      <th>day</th>\n",
       "      <th>month</th>\n",
       "      <th>duration</th>\n",
       "    </tr>\n",
       "  </thead>\n",
       "  <tbody>\n",
       "    <tr>\n",
       "      <th>0</th>\n",
       "      <td>58</td>\n",
       "      <td>married</td>\n",
       "      <td>no</td>\n",
       "      <td>2143</td>\n",
       "      <td>yes</td>\n",
       "      <td>no</td>\n",
       "      <td>5</td>\n",
       "      <td>may</td>\n",
       "      <td>261</td>\n",
       "    </tr>\n",
       "    <tr>\n",
       "      <th>1</th>\n",
       "      <td>44</td>\n",
       "      <td>single</td>\n",
       "      <td>no</td>\n",
       "      <td>29</td>\n",
       "      <td>yes</td>\n",
       "      <td>no</td>\n",
       "      <td>5</td>\n",
       "      <td>may</td>\n",
       "      <td>151</td>\n",
       "    </tr>\n",
       "    <tr>\n",
       "      <th>2</th>\n",
       "      <td>33</td>\n",
       "      <td>married</td>\n",
       "      <td>no</td>\n",
       "      <td>2</td>\n",
       "      <td>yes</td>\n",
       "      <td>yes</td>\n",
       "      <td>5</td>\n",
       "      <td>may</td>\n",
       "      <td>76</td>\n",
       "    </tr>\n",
       "    <tr>\n",
       "      <th>3</th>\n",
       "      <td>47</td>\n",
       "      <td>married</td>\n",
       "      <td>no</td>\n",
       "      <td>1506</td>\n",
       "      <td>yes</td>\n",
       "      <td>no</td>\n",
       "      <td>5</td>\n",
       "      <td>may</td>\n",
       "      <td>92</td>\n",
       "    </tr>\n",
       "    <tr>\n",
       "      <th>4</th>\n",
       "      <td>33</td>\n",
       "      <td>single</td>\n",
       "      <td>no</td>\n",
       "      <td>1</td>\n",
       "      <td>no</td>\n",
       "      <td>no</td>\n",
       "      <td>5</td>\n",
       "      <td>may</td>\n",
       "      <td>198</td>\n",
       "    </tr>\n",
       "    <tr>\n",
       "      <th>...</th>\n",
       "      <td>...</td>\n",
       "      <td>...</td>\n",
       "      <td>...</td>\n",
       "      <td>...</td>\n",
       "      <td>...</td>\n",
       "      <td>...</td>\n",
       "      <td>...</td>\n",
       "      <td>...</td>\n",
       "      <td>...</td>\n",
       "    </tr>\n",
       "    <tr>\n",
       "      <th>8036</th>\n",
       "      <td>45</td>\n",
       "      <td>married</td>\n",
       "      <td>no</td>\n",
       "      <td>759</td>\n",
       "      <td>yes</td>\n",
       "      <td>no</td>\n",
       "      <td>2</td>\n",
       "      <td>jun</td>\n",
       "      <td>172</td>\n",
       "    </tr>\n",
       "    <tr>\n",
       "      <th>8037</th>\n",
       "      <td>29</td>\n",
       "      <td>single</td>\n",
       "      <td>no</td>\n",
       "      <td>144</td>\n",
       "      <td>yes</td>\n",
       "      <td>no</td>\n",
       "      <td>2</td>\n",
       "      <td>jun</td>\n",
       "      <td>105</td>\n",
       "    </tr>\n",
       "    <tr>\n",
       "      <th>8038</th>\n",
       "      <td>39</td>\n",
       "      <td>divorced</td>\n",
       "      <td>no</td>\n",
       "      <td>892</td>\n",
       "      <td>yes</td>\n",
       "      <td>no</td>\n",
       "      <td>2</td>\n",
       "      <td>jun</td>\n",
       "      <td>26</td>\n",
       "    </tr>\n",
       "    <tr>\n",
       "      <th>8039</th>\n",
       "      <td>32</td>\n",
       "      <td>married</td>\n",
       "      <td>no</td>\n",
       "      <td>109</td>\n",
       "      <td>yes</td>\n",
       "      <td>no</td>\n",
       "      <td>2</td>\n",
       "      <td>jun</td>\n",
       "      <td>364</td>\n",
       "    </tr>\n",
       "    <tr>\n",
       "      <th>8040</th>\n",
       "      <td>35</td>\n",
       "      <td>single</td>\n",
       "      <td>no</td>\n",
       "      <td>608</td>\n",
       "      <td>yes</td>\n",
       "      <td>yes</td>\n",
       "      <td>2</td>\n",
       "      <td>jun</td>\n",
       "      <td>227</td>\n",
       "    </tr>\n",
       "  </tbody>\n",
       "</table>\n",
       "<p>8041 rows × 9 columns</p>\n",
       "</div>"
      ],
      "text/plain": [
       "      age   marital default  balance housing loan  day month  duration\n",
       "0      58   married      no     2143     yes   no    5   may       261\n",
       "1      44    single      no       29     yes   no    5   may       151\n",
       "2      33   married      no        2     yes  yes    5   may        76\n",
       "3      47   married      no     1506     yes   no    5   may        92\n",
       "4      33    single      no        1      no   no    5   may       198\n",
       "...   ...       ...     ...      ...     ...  ...  ...   ...       ...\n",
       "8036   45   married      no      759     yes   no    2   jun       172\n",
       "8037   29    single      no      144     yes   no    2   jun       105\n",
       "8038   39  divorced      no      892     yes   no    2   jun        26\n",
       "8039   32   married      no      109     yes   no    2   jun       364\n",
       "8040   35    single      no      608     yes  yes    2   jun       227\n",
       "\n",
       "[8041 rows x 9 columns]"
      ]
     },
     "execution_count": 9,
     "metadata": {},
     "output_type": "execute_result"
    }
   ],
   "source": [
    "df.dropna( axis=1, thresh = 8041, inplace=True) ### To drop columns with missing values\n",
    "print(df.shape)\n",
    "df"
   ]
  },
  {
   "cell_type": "code",
   "execution_count": 10,
   "id": "34bc0ce0",
   "metadata": {},
   "outputs": [
    {
     "name": "stdout",
     "output_type": "stream",
     "text": [
      "age         0\n",
      "marital     0\n",
      "default     0\n",
      "balance     0\n",
      "housing     0\n",
      "loan        0\n",
      "day         0\n",
      "month       0\n",
      "duration    0\n",
      "dtype: int64\n"
     ]
    }
   ],
   "source": [
    "print(df.isna().sum())"
   ]
  },
  {
   "cell_type": "markdown",
   "id": "616491fc",
   "metadata": {},
   "source": [
    "# 2a.) Check for duplicated, view duplicated rows and remove them if any"
   ]
  },
  {
   "cell_type": "code",
   "execution_count": 11,
   "id": "c3589ce3",
   "metadata": {},
   "outputs": [
    {
     "data": {
      "text/plain": [
       "1"
      ]
     },
     "execution_count": 11,
     "metadata": {},
     "output_type": "execute_result"
    }
   ],
   "source": [
    "df.duplicated().sum()"
   ]
  },
  {
   "cell_type": "code",
   "execution_count": 12,
   "id": "00dd28ad",
   "metadata": {},
   "outputs": [
    {
     "name": "stdout",
     "output_type": "stream",
     "text": [
      "     age  marital default  balance housing loan  day month  duration\n",
      "461   39  married      no        0     yes   no    6   may       262\n"
     ]
    }
   ],
   "source": [
    "# To view duplicated rows\n",
    "print(df[df.duplicated()])"
   ]
  },
  {
   "cell_type": "code",
   "execution_count": 13,
   "id": "b593009a",
   "metadata": {},
   "outputs": [
    {
     "data": {
      "text/plain": [
       "(8040, 9)"
      ]
     },
     "execution_count": 13,
     "metadata": {},
     "output_type": "execute_result"
    }
   ],
   "source": [
    "df = df.drop_duplicates(keep='last')\n",
    "df.shape"
   ]
  },
  {
   "cell_type": "code",
   "execution_count": 14,
   "id": "9770b8f1",
   "metadata": {},
   "outputs": [
    {
     "data": {
      "text/html": [
       "<div>\n",
       "<style scoped>\n",
       "    .dataframe tbody tr th:only-of-type {\n",
       "        vertical-align: middle;\n",
       "    }\n",
       "\n",
       "    .dataframe tbody tr th {\n",
       "        vertical-align: top;\n",
       "    }\n",
       "\n",
       "    .dataframe thead th {\n",
       "        text-align: right;\n",
       "    }\n",
       "</style>\n",
       "<table border=\"1\" class=\"dataframe\">\n",
       "  <thead>\n",
       "    <tr style=\"text-align: right;\">\n",
       "      <th></th>\n",
       "      <th>age</th>\n",
       "      <th>marital</th>\n",
       "      <th>default</th>\n",
       "      <th>balance</th>\n",
       "      <th>housing</th>\n",
       "      <th>loan</th>\n",
       "      <th>day</th>\n",
       "      <th>month</th>\n",
       "      <th>duration</th>\n",
       "    </tr>\n",
       "  </thead>\n",
       "  <tbody>\n",
       "    <tr>\n",
       "      <th>0</th>\n",
       "      <td>58</td>\n",
       "      <td>married</td>\n",
       "      <td>no</td>\n",
       "      <td>2143</td>\n",
       "      <td>yes</td>\n",
       "      <td>no</td>\n",
       "      <td>5</td>\n",
       "      <td>may</td>\n",
       "      <td>261</td>\n",
       "    </tr>\n",
       "    <tr>\n",
       "      <th>1</th>\n",
       "      <td>44</td>\n",
       "      <td>single</td>\n",
       "      <td>no</td>\n",
       "      <td>29</td>\n",
       "      <td>yes</td>\n",
       "      <td>no</td>\n",
       "      <td>5</td>\n",
       "      <td>may</td>\n",
       "      <td>151</td>\n",
       "    </tr>\n",
       "    <tr>\n",
       "      <th>2</th>\n",
       "      <td>33</td>\n",
       "      <td>married</td>\n",
       "      <td>no</td>\n",
       "      <td>2</td>\n",
       "      <td>yes</td>\n",
       "      <td>yes</td>\n",
       "      <td>5</td>\n",
       "      <td>may</td>\n",
       "      <td>76</td>\n",
       "    </tr>\n",
       "    <tr>\n",
       "      <th>3</th>\n",
       "      <td>47</td>\n",
       "      <td>married</td>\n",
       "      <td>no</td>\n",
       "      <td>1506</td>\n",
       "      <td>yes</td>\n",
       "      <td>no</td>\n",
       "      <td>5</td>\n",
       "      <td>may</td>\n",
       "      <td>92</td>\n",
       "    </tr>\n",
       "    <tr>\n",
       "      <th>4</th>\n",
       "      <td>33</td>\n",
       "      <td>single</td>\n",
       "      <td>no</td>\n",
       "      <td>1</td>\n",
       "      <td>no</td>\n",
       "      <td>no</td>\n",
       "      <td>5</td>\n",
       "      <td>may</td>\n",
       "      <td>198</td>\n",
       "    </tr>\n",
       "    <tr>\n",
       "      <th>...</th>\n",
       "      <td>...</td>\n",
       "      <td>...</td>\n",
       "      <td>...</td>\n",
       "      <td>...</td>\n",
       "      <td>...</td>\n",
       "      <td>...</td>\n",
       "      <td>...</td>\n",
       "      <td>...</td>\n",
       "      <td>...</td>\n",
       "    </tr>\n",
       "    <tr>\n",
       "      <th>8036</th>\n",
       "      <td>45</td>\n",
       "      <td>married</td>\n",
       "      <td>no</td>\n",
       "      <td>759</td>\n",
       "      <td>yes</td>\n",
       "      <td>no</td>\n",
       "      <td>2</td>\n",
       "      <td>jun</td>\n",
       "      <td>172</td>\n",
       "    </tr>\n",
       "    <tr>\n",
       "      <th>8037</th>\n",
       "      <td>29</td>\n",
       "      <td>single</td>\n",
       "      <td>no</td>\n",
       "      <td>144</td>\n",
       "      <td>yes</td>\n",
       "      <td>no</td>\n",
       "      <td>2</td>\n",
       "      <td>jun</td>\n",
       "      <td>105</td>\n",
       "    </tr>\n",
       "    <tr>\n",
       "      <th>8038</th>\n",
       "      <td>39</td>\n",
       "      <td>divorced</td>\n",
       "      <td>no</td>\n",
       "      <td>892</td>\n",
       "      <td>yes</td>\n",
       "      <td>no</td>\n",
       "      <td>2</td>\n",
       "      <td>jun</td>\n",
       "      <td>26</td>\n",
       "    </tr>\n",
       "    <tr>\n",
       "      <th>8039</th>\n",
       "      <td>32</td>\n",
       "      <td>married</td>\n",
       "      <td>no</td>\n",
       "      <td>109</td>\n",
       "      <td>yes</td>\n",
       "      <td>no</td>\n",
       "      <td>2</td>\n",
       "      <td>jun</td>\n",
       "      <td>364</td>\n",
       "    </tr>\n",
       "    <tr>\n",
       "      <th>8040</th>\n",
       "      <td>35</td>\n",
       "      <td>single</td>\n",
       "      <td>no</td>\n",
       "      <td>608</td>\n",
       "      <td>yes</td>\n",
       "      <td>yes</td>\n",
       "      <td>2</td>\n",
       "      <td>jun</td>\n",
       "      <td>227</td>\n",
       "    </tr>\n",
       "  </tbody>\n",
       "</table>\n",
       "<p>8040 rows × 9 columns</p>\n",
       "</div>"
      ],
      "text/plain": [
       "      age   marital default  balance housing loan  day month  duration\n",
       "0      58   married      no     2143     yes   no    5   may       261\n",
       "1      44    single      no       29     yes   no    5   may       151\n",
       "2      33   married      no        2     yes  yes    5   may        76\n",
       "3      47   married      no     1506     yes   no    5   may        92\n",
       "4      33    single      no        1      no   no    5   may       198\n",
       "...   ...       ...     ...      ...     ...  ...  ...   ...       ...\n",
       "8036   45   married      no      759     yes   no    2   jun       172\n",
       "8037   29    single      no      144     yes   no    2   jun       105\n",
       "8038   39  divorced      no      892     yes   no    2   jun        26\n",
       "8039   32   married      no      109     yes   no    2   jun       364\n",
       "8040   35    single      no      608     yes  yes    2   jun       227\n",
       "\n",
       "[8040 rows x 9 columns]"
      ]
     },
     "execution_count": 14,
     "metadata": {},
     "output_type": "execute_result"
    }
   ],
   "source": [
    "df"
   ]
  },
  {
   "cell_type": "markdown",
   "id": "943ef5b3",
   "metadata": {},
   "source": [
    "# 2b.) Check for outliers using boxplot and statistical methods, and remove them if any"
   ]
  },
  {
   "cell_type": "code",
   "execution_count": 15,
   "id": "75ffbf7b",
   "metadata": {},
   "outputs": [
    {
     "data": {
      "text/html": [
       "<div>\n",
       "<style scoped>\n",
       "    .dataframe tbody tr th:only-of-type {\n",
       "        vertical-align: middle;\n",
       "    }\n",
       "\n",
       "    .dataframe tbody tr th {\n",
       "        vertical-align: top;\n",
       "    }\n",
       "\n",
       "    .dataframe thead th {\n",
       "        text-align: right;\n",
       "    }\n",
       "</style>\n",
       "<table border=\"1\" class=\"dataframe\">\n",
       "  <thead>\n",
       "    <tr style=\"text-align: right;\">\n",
       "      <th></th>\n",
       "      <th>age</th>\n",
       "      <th>balance</th>\n",
       "      <th>day</th>\n",
       "      <th>duration</th>\n",
       "    </tr>\n",
       "  </thead>\n",
       "  <tbody>\n",
       "    <tr>\n",
       "      <th>count</th>\n",
       "      <td>8040.000000</td>\n",
       "      <td>8040.000000</td>\n",
       "      <td>8040.000000</td>\n",
       "      <td>8040.000000</td>\n",
       "    </tr>\n",
       "    <tr>\n",
       "      <th>mean</th>\n",
       "      <td>39.446891</td>\n",
       "      <td>1013.120896</td>\n",
       "      <td>17.555846</td>\n",
       "      <td>264.993532</td>\n",
       "    </tr>\n",
       "    <tr>\n",
       "      <th>std</th>\n",
       "      <td>9.245510</td>\n",
       "      <td>2470.356113</td>\n",
       "      <td>8.284656</td>\n",
       "      <td>249.787869</td>\n",
       "    </tr>\n",
       "    <tr>\n",
       "      <th>min</th>\n",
       "      <td>20.000000</td>\n",
       "      <td>-3372.000000</td>\n",
       "      <td>2.000000</td>\n",
       "      <td>0.000000</td>\n",
       "    </tr>\n",
       "    <tr>\n",
       "      <th>25%</th>\n",
       "      <td>32.000000</td>\n",
       "      <td>40.000000</td>\n",
       "      <td>9.000000</td>\n",
       "      <td>118.000000</td>\n",
       "    </tr>\n",
       "    <tr>\n",
       "      <th>50%</th>\n",
       "      <td>38.000000</td>\n",
       "      <td>323.000000</td>\n",
       "      <td>16.000000</td>\n",
       "      <td>193.000000</td>\n",
       "    </tr>\n",
       "    <tr>\n",
       "      <th>75%</th>\n",
       "      <td>46.000000</td>\n",
       "      <td>1026.000000</td>\n",
       "      <td>26.000000</td>\n",
       "      <td>322.000000</td>\n",
       "    </tr>\n",
       "    <tr>\n",
       "      <th>max</th>\n",
       "      <td>61.000000</td>\n",
       "      <td>58544.000000</td>\n",
       "      <td>30.000000</td>\n",
       "      <td>3366.000000</td>\n",
       "    </tr>\n",
       "  </tbody>\n",
       "</table>\n",
       "</div>"
      ],
      "text/plain": [
       "               age       balance          day     duration\n",
       "count  8040.000000   8040.000000  8040.000000  8040.000000\n",
       "mean     39.446891   1013.120896    17.555846   264.993532\n",
       "std       9.245510   2470.356113     8.284656   249.787869\n",
       "min      20.000000  -3372.000000     2.000000     0.000000\n",
       "25%      32.000000     40.000000     9.000000   118.000000\n",
       "50%      38.000000    323.000000    16.000000   193.000000\n",
       "75%      46.000000   1026.000000    26.000000   322.000000\n",
       "max      61.000000  58544.000000    30.000000  3366.000000"
      ]
     },
     "execution_count": 15,
     "metadata": {},
     "output_type": "execute_result"
    }
   ],
   "source": [
    "df.describe()"
   ]
  },
  {
   "cell_type": "code",
   "execution_count": 16,
   "id": "3314d45a",
   "metadata": {},
   "outputs": [
    {
     "data": {
      "text/plain": [
       "<Axes: ylabel='age'>"
      ]
     },
     "execution_count": 16,
     "metadata": {},
     "output_type": "execute_result"
    },
    {
     "data": {
      "image/png": "[encoded data removed]",
      "text/plain": [
       "<Figure size 640x480 with 1 Axes>"
      ]
     },
     "metadata": {},
     "output_type": "display_data"
    }
   ],
   "source": [
    "sns.boxplot(y='age', data= df )"
   ]
  },
  {
   "cell_type": "code",
   "execution_count": 17,
   "id": "07d13d9f",
   "metadata": {},
   "outputs": [
    {
     "data": {
      "text/plain": [
       "age          32.0\n",
       "balance      40.0\n",
       "day           9.0\n",
       "duration    118.0\n",
       "Name: 0.25, dtype: float64"
      ]
     },
     "execution_count": 17,
     "metadata": {},
     "output_type": "execute_result"
    }
   ],
   "source": [
    "### STATISTICAL METHOD TO COMPUTE THE UPPER AND LOWER LIMITS\n",
    "q1 = df.quantile(0.25, numeric_only=True)\n",
    "q1"
   ]
  },
  {
   "cell_type": "code",
   "execution_count": 18,
   "id": "fa13b06d",
   "metadata": {},
   "outputs": [
    {
     "data": {
      "text/plain": [
       "32.0"
      ]
     },
     "execution_count": 18,
     "metadata": {},
     "output_type": "execute_result"
    }
   ],
   "source": [
    "### STATISTICAL METHOD TO COMPUTE THE UPPER AND LOWER LIMITS\n",
    "q1 = df['age'].quantile(0.25)\n",
    "q1"
   ]
  },
  {
   "cell_type": "code",
   "execution_count": 19,
   "id": "221dcbc2",
   "metadata": {},
   "outputs": [
    {
     "name": "stdout",
     "output_type": "stream",
     "text": [
      "32.0 46.0\n"
     ]
    },
    {
     "data": {
      "text/plain": [
       "14.0"
      ]
     },
     "execution_count": 19,
     "metadata": {},
     "output_type": "execute_result"
    }
   ],
   "source": [
    "### STATISTICAL METHOD TO COMPUTE THE UPPER AND LOWER LIMITS using QUANTILES\n",
    "q1 = np.quantile(df['age'], 0.25)\n",
    "q3 = np.quantile(df['age'], 0.75)\n",
    "print(q1, q3)\n",
    "IQR = q3-q1\n",
    "IQR"
   ]
  },
  {
   "cell_type": "code",
   "execution_count": 20,
   "id": "f758ed97",
   "metadata": {},
   "outputs": [
    {
     "name": "stdout",
     "output_type": "stream",
     "text": [
      "11.0 67.0\n"
     ]
    }
   ],
   "source": [
    "### Use IQR to find lower and upper limit\n",
    "lower_limit = q1 - 1.5*IQR\n",
    "upper_limit = q3 + 1.5*IQR\n",
    "print(lower_limit, upper_limit)"
   ]
  },
  {
   "cell_type": "code",
   "execution_count": 21,
   "id": "d4ab1f31",
   "metadata": {},
   "outputs": [
    {
     "name": "stdout",
     "output_type": "stream",
     "text": [
      "There is no outlier in the DataFrame\n"
     ]
    }
   ],
   "source": [
    "print(\"There is no outlier in the DataFrame\")"
   ]
  },
  {
   "cell_type": "markdown",
   "id": "f8cdc6f4",
   "metadata": {},
   "source": [
    "# 2c.) For categorical features, draw countplot. Write your observations"
   ]
  },
  {
   "cell_type": "code",
   "execution_count": 22,
   "id": "f6b3d476",
   "metadata": {},
   "outputs": [
    {
     "data": {
      "text/plain": [
       "<Axes: xlabel='marital', ylabel='count'>"
      ]
     },
     "execution_count": 22,
     "metadata": {},
     "output_type": "execute_result"
    },
    {
     "data": {
      "image/png": "[encoded data removed]",
      "text/plain": [
       "<Figure size 640x480 with 1 Axes>"
      ]
     },
     "metadata": {},
     "output_type": "display_data"
    }
   ],
   "source": [
    "sns.countplot(x='marital', data=df)"
   ]
  },
  {
   "cell_type": "code",
   "execution_count": 23,
   "id": "abef7bae",
   "metadata": {},
   "outputs": [
    {
     "name": "stdout",
     "output_type": "stream",
     "text": [
      "It is observed that married people are the most populous with the total count of about 4,950. The singles are the next populous with the population count of about 2,200. While the divorced are the list in the categories with the count of about 1,100\n"
     ]
    }
   ],
   "source": [
    "print(\"It is observed that married people are the most populous with the total count of about 4,950. The singles are the next populous with the population count of about 2,200. While the divorced are the list in the categories with the count of about 1,100\")"
   ]
  },
  {
   "cell_type": "markdown",
   "id": "afb0ff13",
   "metadata": {},
   "source": [
    "# 2d.) For numeric features, draw a histogram. Compute and about skewness of variables and apply transformation function if needed"
   ]
  },
  {
   "cell_type": "code",
   "execution_count": 24,
   "id": "18fe1d9a",
   "metadata": {},
   "outputs": [
    {
     "data": {
      "text/plain": [
       "age         0.405577\n",
       "balance     8.203716\n",
       "day        -0.007051\n",
       "duration    3.101671\n",
       "dtype: float64"
      ]
     },
     "execution_count": 24,
     "metadata": {},
     "output_type": "execute_result"
    }
   ],
   "source": [
    "df.skew(numeric_only=True)"
   ]
  },
  {
   "cell_type": "code",
   "execution_count": 25,
   "id": "148a0c75",
   "metadata": {},
   "outputs": [
    {
     "data": {
      "text/plain": [
       "<Axes: xlabel='age', ylabel='Count'>"
      ]
     },
     "execution_count": 25,
     "metadata": {},
     "output_type": "execute_result"
    },
    {
     "data": {
      "image/png": "[encoded data removed]",
      "text/plain": [
       "<Figure size 640x480 with 1 Axes>"
      ]
     },
     "metadata": {},
     "output_type": "display_data"
    }
   ],
   "source": [
    "sns.histplot(data=df, x='age', bins=20, color='yellow')"
   ]
  },
  {
   "cell_type": "code",
   "execution_count": 26,
   "id": "68e7e202",
   "metadata": {},
   "outputs": [
    {
     "data": {
      "text/plain": [
       "age         0.405577\n",
       "balance     8.203716\n",
       "day        -0.007051\n",
       "duration    3.101671\n",
       "dtype: float64"
      ]
     },
     "execution_count": 26,
     "metadata": {},
     "output_type": "execute_result"
    }
   ],
   "source": [
    "df.skew(numeric_only=True)"
   ]
  },
  {
   "cell_type": "code",
   "execution_count": 27,
   "id": "26da89d3",
   "metadata": {},
   "outputs": [
    {
     "name": "stdout",
     "output_type": "stream",
     "text": [
      "count     8040.000000\n",
      "mean      1013.120896\n",
      "std       2470.356113\n",
      "min      -3372.000000\n",
      "25%         40.000000\n",
      "50%        323.000000\n",
      "75%       1026.000000\n",
      "max      58544.000000\n",
      "Name: balance, dtype: float64\n"
     ]
    },
    {
     "data": {
      "text/plain": [
       " 0       465\n",
       " 1        36\n",
       " 2        28\n",
       " 6        22\n",
       " 3        22\n",
       "        ... \n",
       " 4168      1\n",
       " 4574      1\n",
       "-613       1\n",
       " 1511      1\n",
       " 3249      1\n",
       "Name: balance, Length: 3076, dtype: int64"
      ]
     },
     "execution_count": 27,
     "metadata": {},
     "output_type": "execute_result"
    }
   ],
   "source": [
    "print(df['balance'].describe())\n",
    "df['balance'].value_counts()"
   ]
  },
  {
   "cell_type": "code",
   "execution_count": 28,
   "id": "13a45932",
   "metadata": {},
   "outputs": [
    {
     "name": "stdout",
     "output_type": "stream",
     "text": [
      "323.0\n",
      "58544\n",
      "-3372\n",
      "1013.1208955223881\n",
      "The balance feature seems to be skewed\n",
      "8.203715545691205\n",
      "The balance feature is right skewed\n"
     ]
    },
    {
     "data": {
      "image/png": "[encoded data removed]",
      "text/plain": [
       "<Figure size 500x500 with 1 Axes>"
      ]
     },
     "metadata": {},
     "output_type": "display_data"
    }
   ],
   "source": [
    "sns.displot(x='balance', data=df, bins=15)\n",
    "print(df['balance'].median())\n",
    "print(df['balance'].max())\n",
    "print(df['balance'].min())\n",
    "print(df['balance'].mean())\n",
    "print(\"The balance feature seems to be skewed\")\n",
    "\n",
    "### Computation of skewness\n",
    "print(df['balance'].skew())\n",
    "print(\"The balance feature is right skewed\")"
   ]
  },
  {
   "cell_type": "code",
   "execution_count": 29,
   "id": "f4493ebc",
   "metadata": {},
   "outputs": [
    {
     "name": "stderr",
     "output_type": "stream",
     "text": [
      "c:\\Users\\USER\\anaconda3\\anaconda\\lib\\site-packages\\pandas\\core\\arraylike.py:402: RuntimeWarning: divide by zero encountered in log\n",
      "  result = getattr(ufunc, method)(*inputs, **kwargs)\n",
      "c:\\Users\\USER\\anaconda3\\anaconda\\lib\\site-packages\\pandas\\core\\arraylike.py:402: RuntimeWarning: invalid value encountered in log\n",
      "  result = getattr(ufunc, method)(*inputs, **kwargs)\n"
     ]
    },
    {
     "data": {
      "text/plain": [
       "<seaborn.axisgrid.FacetGrid at 0x1b51850fca0>"
      ]
     },
     "execution_count": 29,
     "metadata": {},
     "output_type": "execute_result"
    },
    {
     "data": {
      "image/png": "[encoded data removed]",
      "text/plain": [
       "<Figure size 500x500 with 1 Axes>"
      ]
     },
     "metadata": {},
     "output_type": "display_data"
    }
   ],
   "source": [
    "## Applying transformation function to skewed variable\n",
    "balance_log = np.log(df['balance'] )\n",
    "balance_log\n",
    "sns.displot(x=balance_log, bins=15)"
   ]
  },
  {
   "cell_type": "markdown",
   "id": "7338662a",
   "metadata": {},
   "source": [
    "# 3a.) Come up with scatter plot with hue parameter. Write your observations from the plot."
   ]
  },
  {
   "cell_type": "code",
   "execution_count": 30,
   "id": "9b5e4a04",
   "metadata": {},
   "outputs": [
    {
     "data": {
      "text/plain": [
       "<seaborn.axisgrid.FacetGrid at 0x1b518361ae0>"
      ]
     },
     "execution_count": 30,
     "metadata": {},
     "output_type": "execute_result"
    },
    {
     "data": {
      "image/png": "[encoded data removed]",
      "text/plain": [
       "<Figure size 600x600 with 1 Axes>"
      ]
     },
     "metadata": {},
     "output_type": "display_data"
    }
   ],
   "source": [
    "sns.relplot (data = df, x=\"age\", y=\"duration\", height=6, aspect=1)"
   ]
  },
  {
   "cell_type": "code",
   "execution_count": 31,
   "id": "c86ef25e",
   "metadata": {},
   "outputs": [
    {
     "data": {
      "text/html": [
       "<div>\n",
       "<style scoped>\n",
       "    .dataframe tbody tr th:only-of-type {\n",
       "        vertical-align: middle;\n",
       "    }\n",
       "\n",
       "    .dataframe tbody tr th {\n",
       "        vertical-align: top;\n",
       "    }\n",
       "\n",
       "    .dataframe thead th {\n",
       "        text-align: right;\n",
       "    }\n",
       "</style>\n",
       "<table border=\"1\" class=\"dataframe\">\n",
       "  <thead>\n",
       "    <tr style=\"text-align: right;\">\n",
       "      <th></th>\n",
       "      <th>age</th>\n",
       "      <th>marital</th>\n",
       "      <th>default</th>\n",
       "      <th>balance</th>\n",
       "      <th>housing</th>\n",
       "      <th>loan</th>\n",
       "      <th>day</th>\n",
       "      <th>month</th>\n",
       "      <th>duration</th>\n",
       "    </tr>\n",
       "  </thead>\n",
       "  <tbody>\n",
       "    <tr>\n",
       "      <th>0</th>\n",
       "      <td>58</td>\n",
       "      <td>married</td>\n",
       "      <td>no</td>\n",
       "      <td>2143</td>\n",
       "      <td>yes</td>\n",
       "      <td>no</td>\n",
       "      <td>5</td>\n",
       "      <td>may</td>\n",
       "      <td>261</td>\n",
       "    </tr>\n",
       "    <tr>\n",
       "      <th>1</th>\n",
       "      <td>44</td>\n",
       "      <td>single</td>\n",
       "      <td>no</td>\n",
       "      <td>29</td>\n",
       "      <td>yes</td>\n",
       "      <td>no</td>\n",
       "      <td>5</td>\n",
       "      <td>may</td>\n",
       "      <td>151</td>\n",
       "    </tr>\n",
       "    <tr>\n",
       "      <th>2</th>\n",
       "      <td>33</td>\n",
       "      <td>married</td>\n",
       "      <td>no</td>\n",
       "      <td>2</td>\n",
       "      <td>yes</td>\n",
       "      <td>yes</td>\n",
       "      <td>5</td>\n",
       "      <td>may</td>\n",
       "      <td>76</td>\n",
       "    </tr>\n",
       "    <tr>\n",
       "      <th>3</th>\n",
       "      <td>47</td>\n",
       "      <td>married</td>\n",
       "      <td>no</td>\n",
       "      <td>1506</td>\n",
       "      <td>yes</td>\n",
       "      <td>no</td>\n",
       "      <td>5</td>\n",
       "      <td>may</td>\n",
       "      <td>92</td>\n",
       "    </tr>\n",
       "    <tr>\n",
       "      <th>4</th>\n",
       "      <td>33</td>\n",
       "      <td>single</td>\n",
       "      <td>no</td>\n",
       "      <td>1</td>\n",
       "      <td>no</td>\n",
       "      <td>no</td>\n",
       "      <td>5</td>\n",
       "      <td>may</td>\n",
       "      <td>198</td>\n",
       "    </tr>\n",
       "    <tr>\n",
       "      <th>...</th>\n",
       "      <td>...</td>\n",
       "      <td>...</td>\n",
       "      <td>...</td>\n",
       "      <td>...</td>\n",
       "      <td>...</td>\n",
       "      <td>...</td>\n",
       "      <td>...</td>\n",
       "      <td>...</td>\n",
       "      <td>...</td>\n",
       "    </tr>\n",
       "    <tr>\n",
       "      <th>8036</th>\n",
       "      <td>45</td>\n",
       "      <td>married</td>\n",
       "      <td>no</td>\n",
       "      <td>759</td>\n",
       "      <td>yes</td>\n",
       "      <td>no</td>\n",
       "      <td>2</td>\n",
       "      <td>jun</td>\n",
       "      <td>172</td>\n",
       "    </tr>\n",
       "    <tr>\n",
       "      <th>8037</th>\n",
       "      <td>29</td>\n",
       "      <td>single</td>\n",
       "      <td>no</td>\n",
       "      <td>144</td>\n",
       "      <td>yes</td>\n",
       "      <td>no</td>\n",
       "      <td>2</td>\n",
       "      <td>jun</td>\n",
       "      <td>105</td>\n",
       "    </tr>\n",
       "    <tr>\n",
       "      <th>8038</th>\n",
       "      <td>39</td>\n",
       "      <td>divorced</td>\n",
       "      <td>no</td>\n",
       "      <td>892</td>\n",
       "      <td>yes</td>\n",
       "      <td>no</td>\n",
       "      <td>2</td>\n",
       "      <td>jun</td>\n",
       "      <td>26</td>\n",
       "    </tr>\n",
       "    <tr>\n",
       "      <th>8039</th>\n",
       "      <td>32</td>\n",
       "      <td>married</td>\n",
       "      <td>no</td>\n",
       "      <td>109</td>\n",
       "      <td>yes</td>\n",
       "      <td>no</td>\n",
       "      <td>2</td>\n",
       "      <td>jun</td>\n",
       "      <td>364</td>\n",
       "    </tr>\n",
       "    <tr>\n",
       "      <th>8040</th>\n",
       "      <td>35</td>\n",
       "      <td>single</td>\n",
       "      <td>no</td>\n",
       "      <td>608</td>\n",
       "      <td>yes</td>\n",
       "      <td>yes</td>\n",
       "      <td>2</td>\n",
       "      <td>jun</td>\n",
       "      <td>227</td>\n",
       "    </tr>\n",
       "  </tbody>\n",
       "</table>\n",
       "<p>8040 rows × 9 columns</p>\n",
       "</div>"
      ],
      "text/plain": [
       "      age   marital default  balance housing loan  day month  duration\n",
       "0      58   married      no     2143     yes   no    5   may       261\n",
       "1      44    single      no       29     yes   no    5   may       151\n",
       "2      33   married      no        2     yes  yes    5   may        76\n",
       "3      47   married      no     1506     yes   no    5   may        92\n",
       "4      33    single      no        1      no   no    5   may       198\n",
       "...   ...       ...     ...      ...     ...  ...  ...   ...       ...\n",
       "8036   45   married      no      759     yes   no    2   jun       172\n",
       "8037   29    single      no      144     yes   no    2   jun       105\n",
       "8038   39  divorced      no      892     yes   no    2   jun        26\n",
       "8039   32   married      no      109     yes   no    2   jun       364\n",
       "8040   35    single      no      608     yes  yes    2   jun       227\n",
       "\n",
       "[8040 rows x 9 columns]"
      ]
     },
     "execution_count": 31,
     "metadata": {},
     "output_type": "execute_result"
    }
   ],
   "source": [
    "df"
   ]
  },
  {
   "cell_type": "code",
   "execution_count": 32,
   "id": "6e1f0030",
   "metadata": {},
   "outputs": [
    {
     "data": {
      "text/plain": [
       "<seaborn.axisgrid.FacetGrid at 0x1b519e95f30>"
      ]
     },
     "execution_count": 32,
     "metadata": {},
     "output_type": "execute_result"
    },
    {
     "data": {
      "image/png": "[encoded data removed]",
      "text/plain": [
       "<Figure size 610x500 with 1 Axes>"
      ]
     },
     "metadata": {},
     "output_type": "display_data"
    }
   ],
   "source": [
    "sns.relplot (data = df, x=\"age\", y=\"duration\", hue=\"marital\")"
   ]
  },
  {
   "cell_type": "code",
   "execution_count": 33,
   "id": "8a2fcc54",
   "metadata": {},
   "outputs": [
    {
     "name": "stdout",
     "output_type": "stream",
     "text": [
      "Most of the singles fall within the age bracket 20 - 35 with few others who are yet to marry within the age bracket 36 - 60. Large number of the married people fall within the age bracket 32 - 60. While the divorced people are mostly found within the age bracket 30 - 60\n"
     ]
    }
   ],
   "source": [
    "# Observations\n",
    "print(\"Most of the singles fall within the age bracket 20 - 35 with few others who are yet to marry within the age bracket 36 - 60. Large number of the married people fall within the age bracket 32 - 60. While the divorced people are mostly found within the age bracket 30 - 60\")"
   ]
  },
  {
   "cell_type": "markdown",
   "id": "8f34b5fa",
   "metadata": {},
   "source": [
    "# 3b.) Compute correlation among independent features and demonstrate it using heatmap."
   ]
  },
  {
   "cell_type": "code",
   "execution_count": 34,
   "id": "4faf5ffa",
   "metadata": {},
   "outputs": [
    {
     "data": {
      "text/html": [
       "<div>\n",
       "<style scoped>\n",
       "    .dataframe tbody tr th:only-of-type {\n",
       "        vertical-align: middle;\n",
       "    }\n",
       "\n",
       "    .dataframe tbody tr th {\n",
       "        vertical-align: top;\n",
       "    }\n",
       "\n",
       "    .dataframe thead th {\n",
       "        text-align: right;\n",
       "    }\n",
       "</style>\n",
       "<table border=\"1\" class=\"dataframe\">\n",
       "  <thead>\n",
       "    <tr style=\"text-align: right;\">\n",
       "      <th></th>\n",
       "      <th>age</th>\n",
       "      <th>balance</th>\n",
       "      <th>day</th>\n",
       "      <th>duration</th>\n",
       "    </tr>\n",
       "  </thead>\n",
       "  <tbody>\n",
       "    <tr>\n",
       "      <th>age</th>\n",
       "      <td>1.000000</td>\n",
       "      <td>0.056218</td>\n",
       "      <td>-0.132600</td>\n",
       "      <td>-0.043351</td>\n",
       "    </tr>\n",
       "    <tr>\n",
       "      <th>balance</th>\n",
       "      <td>0.056218</td>\n",
       "      <td>1.000000</td>\n",
       "      <td>0.072668</td>\n",
       "      <td>0.040538</td>\n",
       "    </tr>\n",
       "    <tr>\n",
       "      <th>day</th>\n",
       "      <td>-0.132600</td>\n",
       "      <td>0.072668</td>\n",
       "      <td>1.000000</td>\n",
       "      <td>-0.015412</td>\n",
       "    </tr>\n",
       "    <tr>\n",
       "      <th>duration</th>\n",
       "      <td>-0.043351</td>\n",
       "      <td>0.040538</td>\n",
       "      <td>-0.015412</td>\n",
       "      <td>1.000000</td>\n",
       "    </tr>\n",
       "  </tbody>\n",
       "</table>\n",
       "</div>"
      ],
      "text/plain": [
       "               age   balance       day  duration\n",
       "age       1.000000  0.056218 -0.132600 -0.043351\n",
       "balance   0.056218  1.000000  0.072668  0.040538\n",
       "day      -0.132600  0.072668  1.000000 -0.015412\n",
       "duration -0.043351  0.040538 -0.015412  1.000000"
      ]
     },
     "execution_count": 34,
     "metadata": {},
     "output_type": "execute_result"
    }
   ],
   "source": [
    "correlation_matrix = df.corr(numeric_only=True)\n",
    "correlation_matrix"
   ]
  },
  {
   "cell_type": "code",
   "execution_count": 35,
   "id": "ff7158d6",
   "metadata": {},
   "outputs": [
    {
     "data": {
      "text/plain": [
       "<Axes: >"
      ]
     },
     "execution_count": 35,
     "metadata": {},
     "output_type": "execute_result"
    },
    {
     "data": {
      "image/png": "[encoded data removed]",
      "text/plain": [
       "<Figure size 640x480 with 2 Axes>"
      ]
     },
     "metadata": {},
     "output_type": "display_data"
    }
   ],
   "source": [
    "sns.heatmap(correlation_matrix, annot=True, cmap='BuPu', lw=0.7, linecolor='Black')"
   ]
  },
  {
   "cell_type": "markdown",
   "id": "88c681b7",
   "metadata": {},
   "source": [
    "# 3c.) Apply any scaling method to at least two independents features."
   ]
  },
  {
   "cell_type": "code",
   "execution_count": 36,
   "id": "bbfcb65d",
   "metadata": {},
   "outputs": [
    {
     "data": {
      "text/html": [
       "<div>\n",
       "<style scoped>\n",
       "    .dataframe tbody tr th:only-of-type {\n",
       "        vertical-align: middle;\n",
       "    }\n",
       "\n",
       "    .dataframe tbody tr th {\n",
       "        vertical-align: top;\n",
       "    }\n",
       "\n",
       "    .dataframe thead th {\n",
       "        text-align: right;\n",
       "    }\n",
       "</style>\n",
       "<table border=\"1\" class=\"dataframe\">\n",
       "  <thead>\n",
       "    <tr style=\"text-align: right;\">\n",
       "      <th></th>\n",
       "      <th>age</th>\n",
       "      <th>marital</th>\n",
       "      <th>default</th>\n",
       "      <th>balance</th>\n",
       "      <th>housing</th>\n",
       "      <th>loan</th>\n",
       "      <th>day</th>\n",
       "      <th>month</th>\n",
       "      <th>duration</th>\n",
       "    </tr>\n",
       "  </thead>\n",
       "  <tbody>\n",
       "    <tr>\n",
       "      <th>0</th>\n",
       "      <td>58</td>\n",
       "      <td>married</td>\n",
       "      <td>no</td>\n",
       "      <td>2143</td>\n",
       "      <td>yes</td>\n",
       "      <td>no</td>\n",
       "      <td>5</td>\n",
       "      <td>may</td>\n",
       "      <td>261</td>\n",
       "    </tr>\n",
       "    <tr>\n",
       "      <th>1</th>\n",
       "      <td>44</td>\n",
       "      <td>single</td>\n",
       "      <td>no</td>\n",
       "      <td>29</td>\n",
       "      <td>yes</td>\n",
       "      <td>no</td>\n",
       "      <td>5</td>\n",
       "      <td>may</td>\n",
       "      <td>151</td>\n",
       "    </tr>\n",
       "    <tr>\n",
       "      <th>2</th>\n",
       "      <td>33</td>\n",
       "      <td>married</td>\n",
       "      <td>no</td>\n",
       "      <td>2</td>\n",
       "      <td>yes</td>\n",
       "      <td>yes</td>\n",
       "      <td>5</td>\n",
       "      <td>may</td>\n",
       "      <td>76</td>\n",
       "    </tr>\n",
       "    <tr>\n",
       "      <th>3</th>\n",
       "      <td>47</td>\n",
       "      <td>married</td>\n",
       "      <td>no</td>\n",
       "      <td>1506</td>\n",
       "      <td>yes</td>\n",
       "      <td>no</td>\n",
       "      <td>5</td>\n",
       "      <td>may</td>\n",
       "      <td>92</td>\n",
       "    </tr>\n",
       "    <tr>\n",
       "      <th>4</th>\n",
       "      <td>33</td>\n",
       "      <td>single</td>\n",
       "      <td>no</td>\n",
       "      <td>1</td>\n",
       "      <td>no</td>\n",
       "      <td>no</td>\n",
       "      <td>5</td>\n",
       "      <td>may</td>\n",
       "      <td>198</td>\n",
       "    </tr>\n",
       "    <tr>\n",
       "      <th>...</th>\n",
       "      <td>...</td>\n",
       "      <td>...</td>\n",
       "      <td>...</td>\n",
       "      <td>...</td>\n",
       "      <td>...</td>\n",
       "      <td>...</td>\n",
       "      <td>...</td>\n",
       "      <td>...</td>\n",
       "      <td>...</td>\n",
       "    </tr>\n",
       "    <tr>\n",
       "      <th>8036</th>\n",
       "      <td>45</td>\n",
       "      <td>married</td>\n",
       "      <td>no</td>\n",
       "      <td>759</td>\n",
       "      <td>yes</td>\n",
       "      <td>no</td>\n",
       "      <td>2</td>\n",
       "      <td>jun</td>\n",
       "      <td>172</td>\n",
       "    </tr>\n",
       "    <tr>\n",
       "      <th>8037</th>\n",
       "      <td>29</td>\n",
       "      <td>single</td>\n",
       "      <td>no</td>\n",
       "      <td>144</td>\n",
       "      <td>yes</td>\n",
       "      <td>no</td>\n",
       "      <td>2</td>\n",
       "      <td>jun</td>\n",
       "      <td>105</td>\n",
       "    </tr>\n",
       "    <tr>\n",
       "      <th>8038</th>\n",
       "      <td>39</td>\n",
       "      <td>divorced</td>\n",
       "      <td>no</td>\n",
       "      <td>892</td>\n",
       "      <td>yes</td>\n",
       "      <td>no</td>\n",
       "      <td>2</td>\n",
       "      <td>jun</td>\n",
       "      <td>26</td>\n",
       "    </tr>\n",
       "    <tr>\n",
       "      <th>8039</th>\n",
       "      <td>32</td>\n",
       "      <td>married</td>\n",
       "      <td>no</td>\n",
       "      <td>109</td>\n",
       "      <td>yes</td>\n",
       "      <td>no</td>\n",
       "      <td>2</td>\n",
       "      <td>jun</td>\n",
       "      <td>364</td>\n",
       "    </tr>\n",
       "    <tr>\n",
       "      <th>8040</th>\n",
       "      <td>35</td>\n",
       "      <td>single</td>\n",
       "      <td>no</td>\n",
       "      <td>608</td>\n",
       "      <td>yes</td>\n",
       "      <td>yes</td>\n",
       "      <td>2</td>\n",
       "      <td>jun</td>\n",
       "      <td>227</td>\n",
       "    </tr>\n",
       "  </tbody>\n",
       "</table>\n",
       "<p>8040 rows × 9 columns</p>\n",
       "</div>"
      ],
      "text/plain": [
       "      age   marital default  balance housing loan  day month  duration\n",
       "0      58   married      no     2143     yes   no    5   may       261\n",
       "1      44    single      no       29     yes   no    5   may       151\n",
       "2      33   married      no        2     yes  yes    5   may        76\n",
       "3      47   married      no     1506     yes   no    5   may        92\n",
       "4      33    single      no        1      no   no    5   may       198\n",
       "...   ...       ...     ...      ...     ...  ...  ...   ...       ...\n",
       "8036   45   married      no      759     yes   no    2   jun       172\n",
       "8037   29    single      no      144     yes   no    2   jun       105\n",
       "8038   39  divorced      no      892     yes   no    2   jun        26\n",
       "8039   32   married      no      109     yes   no    2   jun       364\n",
       "8040   35    single      no      608     yes  yes    2   jun       227\n",
       "\n",
       "[8040 rows x 9 columns]"
      ]
     },
     "execution_count": 36,
     "metadata": {},
     "output_type": "execute_result"
    }
   ],
   "source": [
    "df"
   ]
  },
  {
   "cell_type": "code",
   "execution_count": 37,
   "id": "e03e883a",
   "metadata": {},
   "outputs": [],
   "source": [
    "from sklearn.preprocessing import MinMaxScaler, StandardScaler"
   ]
  },
  {
   "cell_type": "code",
   "execution_count": 38,
   "id": "60af3631",
   "metadata": {},
   "outputs": [
    {
     "name": "stdout",
     "output_type": "stream",
     "text": [
      "61 20\n"
     ]
    }
   ],
   "source": [
    "print(df['age'].max(), df['age'].min()) ## MinMaxScaler"
   ]
  },
  {
   "cell_type": "code",
   "execution_count": 39,
   "id": "66d9c352",
   "metadata": {},
   "outputs": [
    {
     "name": "stdout",
     "output_type": "stream",
     "text": [
      "58544 -3372\n"
     ]
    }
   ],
   "source": [
    "print(df['balance'].max(), df['balance'].min()) ## MinMaxScaler"
   ]
  },
  {
   "cell_type": "markdown",
   "id": "76c1c1be",
   "metadata": {},
   "source": [
    "# 3d.) Convert categorical features into numeric ones using appropriate encoding techniques."
   ]
  },
  {
   "cell_type": "code",
   "execution_count": 40,
   "id": "16359822",
   "metadata": {},
   "outputs": [
    {
     "data": {
      "text/plain": [
       "age            int64\n",
       "marital     category\n",
       "default     category\n",
       "balance        int64\n",
       "housing     category\n",
       "loan        category\n",
       "day            int64\n",
       "month       category\n",
       "duration       int64\n",
       "dtype: object"
      ]
     },
     "execution_count": 40,
     "metadata": {},
     "output_type": "execute_result"
    }
   ],
   "source": [
    "df.dtypes"
   ]
  },
  {
   "cell_type": "code",
   "execution_count": 41,
   "id": "ad0720e1",
   "metadata": {},
   "outputs": [
    {
     "name": "stdout",
     "output_type": "stream",
     "text": [
      "['married', 'single', 'divorced']\n",
      "Categories (3, object): ['divorced', 'married', 'single'] ['no', 'yes']\n",
      "Categories (2, object): ['no', 'yes'] ['yes', 'no']\n",
      "Categories (2, object): ['no', 'yes']\n"
     ]
    }
   ],
   "source": [
    "from sklearn.preprocessing import LabelEncoder\n",
    "print(df['marital'].unique(), df['default'].unique(), df['housing'].unique())"
   ]
  },
  {
   "cell_type": "code",
   "execution_count": null,
   "id": "ab601132",
   "metadata": {},
   "outputs": [],
   "source": []
  },
  {
   "cell_type": "code",
   "execution_count": 42,
   "id": "91a2db95",
   "metadata": {},
   "outputs": [
    {
     "data": {
      "text/html": [
       "<div>\n",
       "<style scoped>\n",
       "    .dataframe tbody tr th:only-of-type {\n",
       "        vertical-align: middle;\n",
       "    }\n",
       "\n",
       "    .dataframe tbody tr th {\n",
       "        vertical-align: top;\n",
       "    }\n",
       "\n",
       "    .dataframe thead th {\n",
       "        text-align: right;\n",
       "    }\n",
       "</style>\n",
       "<table border=\"1\" class=\"dataframe\">\n",
       "  <thead>\n",
       "    <tr style=\"text-align: right;\">\n",
       "      <th></th>\n",
       "      <th>age</th>\n",
       "      <th>marital</th>\n",
       "      <th>default</th>\n",
       "      <th>balance</th>\n",
       "      <th>housing</th>\n",
       "      <th>loan</th>\n",
       "      <th>day</th>\n",
       "      <th>month</th>\n",
       "      <th>duration</th>\n",
       "    </tr>\n",
       "  </thead>\n",
       "  <tbody>\n",
       "    <tr>\n",
       "      <th>0</th>\n",
       "      <td>58</td>\n",
       "      <td>married</td>\n",
       "      <td>no</td>\n",
       "      <td>2143</td>\n",
       "      <td>yes</td>\n",
       "      <td>no</td>\n",
       "      <td>5</td>\n",
       "      <td>may</td>\n",
       "      <td>261</td>\n",
       "    </tr>\n",
       "    <tr>\n",
       "      <th>1</th>\n",
       "      <td>44</td>\n",
       "      <td>single</td>\n",
       "      <td>no</td>\n",
       "      <td>29</td>\n",
       "      <td>yes</td>\n",
       "      <td>no</td>\n",
       "      <td>5</td>\n",
       "      <td>may</td>\n",
       "      <td>151</td>\n",
       "    </tr>\n",
       "    <tr>\n",
       "      <th>2</th>\n",
       "      <td>33</td>\n",
       "      <td>married</td>\n",
       "      <td>no</td>\n",
       "      <td>2</td>\n",
       "      <td>yes</td>\n",
       "      <td>yes</td>\n",
       "      <td>5</td>\n",
       "      <td>may</td>\n",
       "      <td>76</td>\n",
       "    </tr>\n",
       "    <tr>\n",
       "      <th>3</th>\n",
       "      <td>47</td>\n",
       "      <td>married</td>\n",
       "      <td>no</td>\n",
       "      <td>1506</td>\n",
       "      <td>yes</td>\n",
       "      <td>no</td>\n",
       "      <td>5</td>\n",
       "      <td>may</td>\n",
       "      <td>92</td>\n",
       "    </tr>\n",
       "    <tr>\n",
       "      <th>4</th>\n",
       "      <td>33</td>\n",
       "      <td>single</td>\n",
       "      <td>no</td>\n",
       "      <td>1</td>\n",
       "      <td>no</td>\n",
       "      <td>no</td>\n",
       "      <td>5</td>\n",
       "      <td>may</td>\n",
       "      <td>198</td>\n",
       "    </tr>\n",
       "    <tr>\n",
       "      <th>...</th>\n",
       "      <td>...</td>\n",
       "      <td>...</td>\n",
       "      <td>...</td>\n",
       "      <td>...</td>\n",
       "      <td>...</td>\n",
       "      <td>...</td>\n",
       "      <td>...</td>\n",
       "      <td>...</td>\n",
       "      <td>...</td>\n",
       "    </tr>\n",
       "    <tr>\n",
       "      <th>8039</th>\n",
       "      <td>32</td>\n",
       "      <td>married</td>\n",
       "      <td>no</td>\n",
       "      <td>109</td>\n",
       "      <td>yes</td>\n",
       "      <td>no</td>\n",
       "      <td>2</td>\n",
       "      <td>jun</td>\n",
       "      <td>364</td>\n",
       "    </tr>\n",
       "    <tr>\n",
       "      <th>8040</th>\n",
       "      <td>35</td>\n",
       "      <td>single</td>\n",
       "      <td>no</td>\n",
       "      <td>608</td>\n",
       "      <td>yes</td>\n",
       "      <td>yes</td>\n",
       "      <td>2</td>\n",
       "      <td>jun</td>\n",
       "      <td>227</td>\n",
       "    </tr>\n",
       "    <tr>\n",
       "      <th>marital</th>\n",
       "      <td>NaN</td>\n",
       "      <td>NaN</td>\n",
       "      <td>NaN</td>\n",
       "      <td>NaN</td>\n",
       "      <td>NaN</td>\n",
       "      <td>NaN</td>\n",
       "      <td>NaN</td>\n",
       "      <td>NaN</td>\n",
       "      <td>NaN</td>\n",
       "    </tr>\n",
       "    <tr>\n",
       "      <th>default</th>\n",
       "      <td>NaN</td>\n",
       "      <td>NaN</td>\n",
       "      <td>NaN</td>\n",
       "      <td>NaN</td>\n",
       "      <td>NaN</td>\n",
       "      <td>NaN</td>\n",
       "      <td>NaN</td>\n",
       "      <td>NaN</td>\n",
       "      <td>NaN</td>\n",
       "    </tr>\n",
       "    <tr>\n",
       "      <th>housing</th>\n",
       "      <td>NaN</td>\n",
       "      <td>NaN</td>\n",
       "      <td>NaN</td>\n",
       "      <td>NaN</td>\n",
       "      <td>NaN</td>\n",
       "      <td>NaN</td>\n",
       "      <td>NaN</td>\n",
       "      <td>NaN</td>\n",
       "      <td>NaN</td>\n",
       "    </tr>\n",
       "  </tbody>\n",
       "</table>\n",
       "<p>8043 rows × 9 columns</p>\n",
       "</div>"
      ],
      "text/plain": [
       "         age  marital default balance housing loan  day month duration\n",
       "0         58  married      no    2143     yes   no    5   may      261\n",
       "1         44   single      no      29     yes   no    5   may      151\n",
       "2         33  married      no       2     yes  yes    5   may       76\n",
       "3         47  married      no    1506     yes   no    5   may       92\n",
       "4         33   single      no       1      no   no    5   may      198\n",
       "...      ...      ...     ...     ...     ...  ...  ...   ...      ...\n",
       "8039      32  married      no     109     yes   no    2   jun      364\n",
       "8040      35   single      no     608     yes  yes    2   jun      227\n",
       "marital  NaN      NaN     NaN     NaN     NaN  NaN  NaN   NaN      NaN\n",
       "default  NaN      NaN     NaN     NaN     NaN  NaN  NaN   NaN      NaN\n",
       "housing  NaN      NaN     NaN     NaN     NaN  NaN  NaN   NaN      NaN\n",
       "\n",
       "[8043 rows x 9 columns]"
      ]
     },
     "execution_count": 42,
     "metadata": {},
     "output_type": "execute_result"
    }
   ],
   "source": [
    "df.loc['marital']= df['marital'].astype('category')\n",
    "df.loc['default']= df['default'].astype('category')\n",
    "df.loc['housing'] = df['housing'].astype('category')\n",
    "df"
   ]
  },
  {
   "cell_type": "code",
   "execution_count": 43,
   "id": "e88c9d8d",
   "metadata": {},
   "outputs": [
    {
     "data": {
      "text/html": [
       "<div>\n",
       "<style scoped>\n",
       "    .dataframe tbody tr th:only-of-type {\n",
       "        vertical-align: middle;\n",
       "    }\n",
       "\n",
       "    .dataframe tbody tr th {\n",
       "        vertical-align: top;\n",
       "    }\n",
       "\n",
       "    .dataframe thead th {\n",
       "        text-align: right;\n",
       "    }\n",
       "</style>\n",
       "<table border=\"1\" class=\"dataframe\">\n",
       "  <thead>\n",
       "    <tr style=\"text-align: right;\">\n",
       "      <th></th>\n",
       "      <th>age</th>\n",
       "      <th>marital</th>\n",
       "      <th>default</th>\n",
       "      <th>balance</th>\n",
       "      <th>housing</th>\n",
       "      <th>loan</th>\n",
       "      <th>day</th>\n",
       "      <th>month</th>\n",
       "      <th>duration</th>\n",
       "    </tr>\n",
       "  </thead>\n",
       "  <tbody>\n",
       "    <tr>\n",
       "      <th>0</th>\n",
       "      <td>58</td>\n",
       "      <td>married</td>\n",
       "      <td>no</td>\n",
       "      <td>2143</td>\n",
       "      <td>yes</td>\n",
       "      <td>no</td>\n",
       "      <td>5</td>\n",
       "      <td>may</td>\n",
       "      <td>261</td>\n",
       "    </tr>\n",
       "    <tr>\n",
       "      <th>1</th>\n",
       "      <td>44</td>\n",
       "      <td>single</td>\n",
       "      <td>no</td>\n",
       "      <td>29</td>\n",
       "      <td>yes</td>\n",
       "      <td>no</td>\n",
       "      <td>5</td>\n",
       "      <td>may</td>\n",
       "      <td>151</td>\n",
       "    </tr>\n",
       "    <tr>\n",
       "      <th>2</th>\n",
       "      <td>33</td>\n",
       "      <td>married</td>\n",
       "      <td>no</td>\n",
       "      <td>2</td>\n",
       "      <td>yes</td>\n",
       "      <td>yes</td>\n",
       "      <td>5</td>\n",
       "      <td>may</td>\n",
       "      <td>76</td>\n",
       "    </tr>\n",
       "    <tr>\n",
       "      <th>3</th>\n",
       "      <td>47</td>\n",
       "      <td>married</td>\n",
       "      <td>no</td>\n",
       "      <td>1506</td>\n",
       "      <td>yes</td>\n",
       "      <td>no</td>\n",
       "      <td>5</td>\n",
       "      <td>may</td>\n",
       "      <td>92</td>\n",
       "    </tr>\n",
       "    <tr>\n",
       "      <th>4</th>\n",
       "      <td>33</td>\n",
       "      <td>single</td>\n",
       "      <td>no</td>\n",
       "      <td>1</td>\n",
       "      <td>no</td>\n",
       "      <td>no</td>\n",
       "      <td>5</td>\n",
       "      <td>may</td>\n",
       "      <td>198</td>\n",
       "    </tr>\n",
       "    <tr>\n",
       "      <th>...</th>\n",
       "      <td>...</td>\n",
       "      <td>...</td>\n",
       "      <td>...</td>\n",
       "      <td>...</td>\n",
       "      <td>...</td>\n",
       "      <td>...</td>\n",
       "      <td>...</td>\n",
       "      <td>...</td>\n",
       "      <td>...</td>\n",
       "    </tr>\n",
       "    <tr>\n",
       "      <th>8036</th>\n",
       "      <td>45</td>\n",
       "      <td>married</td>\n",
       "      <td>no</td>\n",
       "      <td>759</td>\n",
       "      <td>yes</td>\n",
       "      <td>no</td>\n",
       "      <td>2</td>\n",
       "      <td>jun</td>\n",
       "      <td>172</td>\n",
       "    </tr>\n",
       "    <tr>\n",
       "      <th>8037</th>\n",
       "      <td>29</td>\n",
       "      <td>single</td>\n",
       "      <td>no</td>\n",
       "      <td>144</td>\n",
       "      <td>yes</td>\n",
       "      <td>no</td>\n",
       "      <td>2</td>\n",
       "      <td>jun</td>\n",
       "      <td>105</td>\n",
       "    </tr>\n",
       "    <tr>\n",
       "      <th>8038</th>\n",
       "      <td>39</td>\n",
       "      <td>divorced</td>\n",
       "      <td>no</td>\n",
       "      <td>892</td>\n",
       "      <td>yes</td>\n",
       "      <td>no</td>\n",
       "      <td>2</td>\n",
       "      <td>jun</td>\n",
       "      <td>26</td>\n",
       "    </tr>\n",
       "    <tr>\n",
       "      <th>8039</th>\n",
       "      <td>32</td>\n",
       "      <td>married</td>\n",
       "      <td>no</td>\n",
       "      <td>109</td>\n",
       "      <td>yes</td>\n",
       "      <td>no</td>\n",
       "      <td>2</td>\n",
       "      <td>jun</td>\n",
       "      <td>364</td>\n",
       "    </tr>\n",
       "    <tr>\n",
       "      <th>8040</th>\n",
       "      <td>35</td>\n",
       "      <td>single</td>\n",
       "      <td>no</td>\n",
       "      <td>608</td>\n",
       "      <td>yes</td>\n",
       "      <td>yes</td>\n",
       "      <td>2</td>\n",
       "      <td>jun</td>\n",
       "      <td>227</td>\n",
       "    </tr>\n",
       "  </tbody>\n",
       "</table>\n",
       "<p>8040 rows × 9 columns</p>\n",
       "</div>"
      ],
      "text/plain": [
       "     age   marital default balance housing loan day month duration\n",
       "0     58   married      no    2143     yes   no   5   may      261\n",
       "1     44    single      no      29     yes   no   5   may      151\n",
       "2     33   married      no       2     yes  yes   5   may       76\n",
       "3     47   married      no    1506     yes   no   5   may       92\n",
       "4     33    single      no       1      no   no   5   may      198\n",
       "...   ..       ...     ...     ...     ...  ...  ..   ...      ...\n",
       "8036  45   married      no     759     yes   no   2   jun      172\n",
       "8037  29    single      no     144     yes   no   2   jun      105\n",
       "8038  39  divorced      no     892     yes   no   2   jun       26\n",
       "8039  32   married      no     109     yes   no   2   jun      364\n",
       "8040  35    single      no     608     yes  yes   2   jun      227\n",
       "\n",
       "[8040 rows x 9 columns]"
      ]
     },
     "execution_count": 43,
     "metadata": {},
     "output_type": "execute_result"
    }
   ],
   "source": [
    "df = df.dropna()\n",
    "df"
   ]
  },
  {
   "cell_type": "markdown",
   "id": "37261bc4",
   "metadata": {},
   "source": [
    "# 4.) Compute correlation of each independence feature with dependent variable target. Select seven most important independent features from the set"
   ]
  },
  {
   "cell_type": "code",
   "execution_count": 44,
   "id": "bb42de26",
   "metadata": {},
   "outputs": [
    {
     "data": {
      "text/plain": [
       "age           object\n",
       "marital     category\n",
       "default     category\n",
       "balance       object\n",
       "housing     category\n",
       "loan        category\n",
       "day           object\n",
       "month       category\n",
       "duration      object\n",
       "dtype: object"
      ]
     },
     "execution_count": 44,
     "metadata": {},
     "output_type": "execute_result"
    }
   ],
   "source": [
    "df.dtypes"
   ]
  },
  {
   "cell_type": "code",
   "execution_count": 45,
   "id": "164b5795",
   "metadata": {},
   "outputs": [
    {
     "name": "stdout",
     "output_type": "stream",
     "text": [
      "age             int8\n",
      "marital     category\n",
      "default     category\n",
      "balance        int32\n",
      "housing     category\n",
      "loan        category\n",
      "day             int8\n",
      "month       category\n",
      "duration       int16\n",
      "dtype: object\n"
     ]
    },
    {
     "name": "stderr",
     "output_type": "stream",
     "text": [
      "C:\\Users\\USER\\AppData\\Local\\Temp\\ipykernel_12804\\1285266323.py:4: SettingWithCopyWarning: \n",
      "A value is trying to be set on a copy of a slice from a DataFrame.\n",
      "Try using .loc[row_indexer,col_indexer] = value instead\n",
      "\n",
      "See the caveats in the documentation: https://pandas.pydata.org/pandas-docs/stable/user_guide/indexing.html#returning-a-view-versus-a-copy\n",
      "  df[column] = pd.to_numeric(df[column], errors='coerce', downcast='integer')\n"
     ]
    }
   ],
   "source": [
    "# List of columns to convert to integers\n",
    "columns_to_convert = ['age', 'balance', 'day', 'duration']\n",
    "for column in columns_to_convert:\n",
    "    df[column] = pd.to_numeric(df[column], errors='coerce', downcast='integer')\n",
    "print(df.dtypes)"
   ]
  },
  {
   "cell_type": "code",
   "execution_count": 46,
   "id": "ed2af051",
   "metadata": {},
   "outputs": [
    {
     "data": {
      "text/html": [
       "<div>\n",
       "<style scoped>\n",
       "    .dataframe tbody tr th:only-of-type {\n",
       "        vertical-align: middle;\n",
       "    }\n",
       "\n",
       "    .dataframe tbody tr th {\n",
       "        vertical-align: top;\n",
       "    }\n",
       "\n",
       "    .dataframe thead th {\n",
       "        text-align: right;\n",
       "    }\n",
       "</style>\n",
       "<table border=\"1\" class=\"dataframe\">\n",
       "  <thead>\n",
       "    <tr style=\"text-align: right;\">\n",
       "      <th></th>\n",
       "      <th>age</th>\n",
       "      <th>marital</th>\n",
       "      <th>default</th>\n",
       "      <th>balance</th>\n",
       "      <th>housing</th>\n",
       "      <th>loan</th>\n",
       "      <th>day</th>\n",
       "      <th>month</th>\n",
       "      <th>duration</th>\n",
       "    </tr>\n",
       "  </thead>\n",
       "  <tbody>\n",
       "    <tr>\n",
       "      <th>0</th>\n",
       "      <td>58</td>\n",
       "      <td>married</td>\n",
       "      <td>no</td>\n",
       "      <td>2143</td>\n",
       "      <td>yes</td>\n",
       "      <td>no</td>\n",
       "      <td>5</td>\n",
       "      <td>may</td>\n",
       "      <td>261</td>\n",
       "    </tr>\n",
       "    <tr>\n",
       "      <th>1</th>\n",
       "      <td>44</td>\n",
       "      <td>single</td>\n",
       "      <td>no</td>\n",
       "      <td>29</td>\n",
       "      <td>yes</td>\n",
       "      <td>no</td>\n",
       "      <td>5</td>\n",
       "      <td>may</td>\n",
       "      <td>151</td>\n",
       "    </tr>\n",
       "    <tr>\n",
       "      <th>2</th>\n",
       "      <td>33</td>\n",
       "      <td>married</td>\n",
       "      <td>no</td>\n",
       "      <td>2</td>\n",
       "      <td>yes</td>\n",
       "      <td>yes</td>\n",
       "      <td>5</td>\n",
       "      <td>may</td>\n",
       "      <td>76</td>\n",
       "    </tr>\n",
       "    <tr>\n",
       "      <th>3</th>\n",
       "      <td>47</td>\n",
       "      <td>married</td>\n",
       "      <td>no</td>\n",
       "      <td>1506</td>\n",
       "      <td>yes</td>\n",
       "      <td>no</td>\n",
       "      <td>5</td>\n",
       "      <td>may</td>\n",
       "      <td>92</td>\n",
       "    </tr>\n",
       "    <tr>\n",
       "      <th>4</th>\n",
       "      <td>33</td>\n",
       "      <td>single</td>\n",
       "      <td>no</td>\n",
       "      <td>1</td>\n",
       "      <td>no</td>\n",
       "      <td>no</td>\n",
       "      <td>5</td>\n",
       "      <td>may</td>\n",
       "      <td>198</td>\n",
       "    </tr>\n",
       "    <tr>\n",
       "      <th>...</th>\n",
       "      <td>...</td>\n",
       "      <td>...</td>\n",
       "      <td>...</td>\n",
       "      <td>...</td>\n",
       "      <td>...</td>\n",
       "      <td>...</td>\n",
       "      <td>...</td>\n",
       "      <td>...</td>\n",
       "      <td>...</td>\n",
       "    </tr>\n",
       "    <tr>\n",
       "      <th>8036</th>\n",
       "      <td>45</td>\n",
       "      <td>married</td>\n",
       "      <td>no</td>\n",
       "      <td>759</td>\n",
       "      <td>yes</td>\n",
       "      <td>no</td>\n",
       "      <td>2</td>\n",
       "      <td>jun</td>\n",
       "      <td>172</td>\n",
       "    </tr>\n",
       "    <tr>\n",
       "      <th>8037</th>\n",
       "      <td>29</td>\n",
       "      <td>single</td>\n",
       "      <td>no</td>\n",
       "      <td>144</td>\n",
       "      <td>yes</td>\n",
       "      <td>no</td>\n",
       "      <td>2</td>\n",
       "      <td>jun</td>\n",
       "      <td>105</td>\n",
       "    </tr>\n",
       "    <tr>\n",
       "      <th>8038</th>\n",
       "      <td>39</td>\n",
       "      <td>divorced</td>\n",
       "      <td>no</td>\n",
       "      <td>892</td>\n",
       "      <td>yes</td>\n",
       "      <td>no</td>\n",
       "      <td>2</td>\n",
       "      <td>jun</td>\n",
       "      <td>26</td>\n",
       "    </tr>\n",
       "    <tr>\n",
       "      <th>8039</th>\n",
       "      <td>32</td>\n",
       "      <td>married</td>\n",
       "      <td>no</td>\n",
       "      <td>109</td>\n",
       "      <td>yes</td>\n",
       "      <td>no</td>\n",
       "      <td>2</td>\n",
       "      <td>jun</td>\n",
       "      <td>364</td>\n",
       "    </tr>\n",
       "    <tr>\n",
       "      <th>8040</th>\n",
       "      <td>35</td>\n",
       "      <td>single</td>\n",
       "      <td>no</td>\n",
       "      <td>608</td>\n",
       "      <td>yes</td>\n",
       "      <td>yes</td>\n",
       "      <td>2</td>\n",
       "      <td>jun</td>\n",
       "      <td>227</td>\n",
       "    </tr>\n",
       "  </tbody>\n",
       "</table>\n",
       "<p>8040 rows × 9 columns</p>\n",
       "</div>"
      ],
      "text/plain": [
       "      age   marital default  balance housing loan  day month  duration\n",
       "0      58   married      no     2143     yes   no    5   may       261\n",
       "1      44    single      no       29     yes   no    5   may       151\n",
       "2      33   married      no        2     yes  yes    5   may        76\n",
       "3      47   married      no     1506     yes   no    5   may        92\n",
       "4      33    single      no        1      no   no    5   may       198\n",
       "...   ...       ...     ...      ...     ...  ...  ...   ...       ...\n",
       "8036   45   married      no      759     yes   no    2   jun       172\n",
       "8037   29    single      no      144     yes   no    2   jun       105\n",
       "8038   39  divorced      no      892     yes   no    2   jun        26\n",
       "8039   32   married      no      109     yes   no    2   jun       364\n",
       "8040   35    single      no      608     yes  yes    2   jun       227\n",
       "\n",
       "[8040 rows x 9 columns]"
      ]
     },
     "execution_count": 46,
     "metadata": {},
     "output_type": "execute_result"
    }
   ],
   "source": [
    "df"
   ]
  },
  {
   "cell_type": "code",
   "execution_count": 47,
   "id": "815eaa43",
   "metadata": {},
   "outputs": [
    {
     "name": "stdout",
     "output_type": "stream",
     "text": [
      "age                 1.000000\n",
      "balance             0.056218\n",
      "day                -0.132600\n",
      "duration           -0.043351\n",
      "marital_divorced    0.181194\n",
      "marital_married     0.231498\n",
      "marital_single     -0.385962\n",
      "default_no          0.027096\n",
      "default_yes        -0.027096\n",
      "housing_no          0.057348\n",
      "housing_yes        -0.057348\n",
      "loan_no             0.026567\n",
      "loan_yes           -0.026567\n",
      "month_jun           0.008926\n",
      "month_may          -0.008926\n",
      "Name: age, dtype: float64\n"
     ]
    }
   ],
   "source": [
    "# Using one-hot encoding for categorical columns\n",
    "categorical_columns = ['marital', 'default', 'housing', 'loan', 'month']\n",
    "df_encoded = pd.get_dummies(df, columns=categorical_columns)\n",
    "\n",
    "# Calculate the correlation between each feature (including one-hot encoded columns) and the target variable\n",
    "correlations = df_encoded.corr()['age']\n",
    "print(correlations)"
   ]
  },
  {
   "cell_type": "markdown",
   "id": "d4adeab8",
   "metadata": {},
   "source": [
    "# 5.) Consider 'target' column is prediction variable. Apply feature selection method to the dataset using SelectKBest() to reduce the dataset size to 7 features"
   ]
  },
  {
   "cell_type": "code",
   "execution_count": 48,
   "id": "60237805",
   "metadata": {},
   "outputs": [],
   "source": [
    "from sklearn.feature_selection import SelectKBest, chi2\n",
    "from sklearn.preprocessing import LabelEncoder, OneHotEncoder"
   ]
  },
  {
   "cell_type": "code",
   "execution_count": 49,
   "id": "22a89313",
   "metadata": {},
   "outputs": [
    {
     "data": {
      "text/html": [
       "<div>\n",
       "<style scoped>\n",
       "    .dataframe tbody tr th:only-of-type {\n",
       "        vertical-align: middle;\n",
       "    }\n",
       "\n",
       "    .dataframe tbody tr th {\n",
       "        vertical-align: top;\n",
       "    }\n",
       "\n",
       "    .dataframe thead th {\n",
       "        text-align: right;\n",
       "    }\n",
       "</style>\n",
       "<table border=\"1\" class=\"dataframe\">\n",
       "  <thead>\n",
       "    <tr style=\"text-align: right;\">\n",
       "      <th></th>\n",
       "      <th>age</th>\n",
       "      <th>balance</th>\n",
       "      <th>day</th>\n",
       "      <th>duration</th>\n",
       "      <th>marital_divorced</th>\n",
       "      <th>marital_married</th>\n",
       "      <th>marital_single</th>\n",
       "      <th>default_no</th>\n",
       "      <th>default_yes</th>\n",
       "      <th>housing_no</th>\n",
       "      <th>housing_yes</th>\n",
       "      <th>loan_no</th>\n",
       "      <th>loan_yes</th>\n",
       "      <th>month_jun</th>\n",
       "      <th>month_may</th>\n",
       "    </tr>\n",
       "  </thead>\n",
       "  <tbody>\n",
       "    <tr>\n",
       "      <th>0</th>\n",
       "      <td>58</td>\n",
       "      <td>2143</td>\n",
       "      <td>5</td>\n",
       "      <td>261</td>\n",
       "      <td>0</td>\n",
       "      <td>1</td>\n",
       "      <td>0</td>\n",
       "      <td>1</td>\n",
       "      <td>0</td>\n",
       "      <td>0</td>\n",
       "      <td>1</td>\n",
       "      <td>1</td>\n",
       "      <td>0</td>\n",
       "      <td>0</td>\n",
       "      <td>1</td>\n",
       "    </tr>\n",
       "    <tr>\n",
       "      <th>1</th>\n",
       "      <td>44</td>\n",
       "      <td>29</td>\n",
       "      <td>5</td>\n",
       "      <td>151</td>\n",
       "      <td>0</td>\n",
       "      <td>0</td>\n",
       "      <td>1</td>\n",
       "      <td>1</td>\n",
       "      <td>0</td>\n",
       "      <td>0</td>\n",
       "      <td>1</td>\n",
       "      <td>1</td>\n",
       "      <td>0</td>\n",
       "      <td>0</td>\n",
       "      <td>1</td>\n",
       "    </tr>\n",
       "    <tr>\n",
       "      <th>2</th>\n",
       "      <td>33</td>\n",
       "      <td>2</td>\n",
       "      <td>5</td>\n",
       "      <td>76</td>\n",
       "      <td>0</td>\n",
       "      <td>1</td>\n",
       "      <td>0</td>\n",
       "      <td>1</td>\n",
       "      <td>0</td>\n",
       "      <td>0</td>\n",
       "      <td>1</td>\n",
       "      <td>0</td>\n",
       "      <td>1</td>\n",
       "      <td>0</td>\n",
       "      <td>1</td>\n",
       "    </tr>\n",
       "    <tr>\n",
       "      <th>3</th>\n",
       "      <td>47</td>\n",
       "      <td>1506</td>\n",
       "      <td>5</td>\n",
       "      <td>92</td>\n",
       "      <td>0</td>\n",
       "      <td>1</td>\n",
       "      <td>0</td>\n",
       "      <td>1</td>\n",
       "      <td>0</td>\n",
       "      <td>0</td>\n",
       "      <td>1</td>\n",
       "      <td>1</td>\n",
       "      <td>0</td>\n",
       "      <td>0</td>\n",
       "      <td>1</td>\n",
       "    </tr>\n",
       "    <tr>\n",
       "      <th>4</th>\n",
       "      <td>33</td>\n",
       "      <td>1</td>\n",
       "      <td>5</td>\n",
       "      <td>198</td>\n",
       "      <td>0</td>\n",
       "      <td>0</td>\n",
       "      <td>1</td>\n",
       "      <td>1</td>\n",
       "      <td>0</td>\n",
       "      <td>1</td>\n",
       "      <td>0</td>\n",
       "      <td>1</td>\n",
       "      <td>0</td>\n",
       "      <td>0</td>\n",
       "      <td>1</td>\n",
       "    </tr>\n",
       "    <tr>\n",
       "      <th>...</th>\n",
       "      <td>...</td>\n",
       "      <td>...</td>\n",
       "      <td>...</td>\n",
       "      <td>...</td>\n",
       "      <td>...</td>\n",
       "      <td>...</td>\n",
       "      <td>...</td>\n",
       "      <td>...</td>\n",
       "      <td>...</td>\n",
       "      <td>...</td>\n",
       "      <td>...</td>\n",
       "      <td>...</td>\n",
       "      <td>...</td>\n",
       "      <td>...</td>\n",
       "      <td>...</td>\n",
       "    </tr>\n",
       "    <tr>\n",
       "      <th>8036</th>\n",
       "      <td>45</td>\n",
       "      <td>759</td>\n",
       "      <td>2</td>\n",
       "      <td>172</td>\n",
       "      <td>0</td>\n",
       "      <td>1</td>\n",
       "      <td>0</td>\n",
       "      <td>1</td>\n",
       "      <td>0</td>\n",
       "      <td>0</td>\n",
       "      <td>1</td>\n",
       "      <td>1</td>\n",
       "      <td>0</td>\n",
       "      <td>1</td>\n",
       "      <td>0</td>\n",
       "    </tr>\n",
       "    <tr>\n",
       "      <th>8037</th>\n",
       "      <td>29</td>\n",
       "      <td>144</td>\n",
       "      <td>2</td>\n",
       "      <td>105</td>\n",
       "      <td>0</td>\n",
       "      <td>0</td>\n",
       "      <td>1</td>\n",
       "      <td>1</td>\n",
       "      <td>0</td>\n",
       "      <td>0</td>\n",
       "      <td>1</td>\n",
       "      <td>1</td>\n",
       "      <td>0</td>\n",
       "      <td>1</td>\n",
       "      <td>0</td>\n",
       "    </tr>\n",
       "    <tr>\n",
       "      <th>8038</th>\n",
       "      <td>39</td>\n",
       "      <td>892</td>\n",
       "      <td>2</td>\n",
       "      <td>26</td>\n",
       "      <td>1</td>\n",
       "      <td>0</td>\n",
       "      <td>0</td>\n",
       "      <td>1</td>\n",
       "      <td>0</td>\n",
       "      <td>0</td>\n",
       "      <td>1</td>\n",
       "      <td>1</td>\n",
       "      <td>0</td>\n",
       "      <td>1</td>\n",
       "      <td>0</td>\n",
       "    </tr>\n",
       "    <tr>\n",
       "      <th>8039</th>\n",
       "      <td>32</td>\n",
       "      <td>109</td>\n",
       "      <td>2</td>\n",
       "      <td>364</td>\n",
       "      <td>0</td>\n",
       "      <td>1</td>\n",
       "      <td>0</td>\n",
       "      <td>1</td>\n",
       "      <td>0</td>\n",
       "      <td>0</td>\n",
       "      <td>1</td>\n",
       "      <td>1</td>\n",
       "      <td>0</td>\n",
       "      <td>1</td>\n",
       "      <td>0</td>\n",
       "    </tr>\n",
       "    <tr>\n",
       "      <th>8040</th>\n",
       "      <td>35</td>\n",
       "      <td>608</td>\n",
       "      <td>2</td>\n",
       "      <td>227</td>\n",
       "      <td>0</td>\n",
       "      <td>0</td>\n",
       "      <td>1</td>\n",
       "      <td>1</td>\n",
       "      <td>0</td>\n",
       "      <td>0</td>\n",
       "      <td>1</td>\n",
       "      <td>0</td>\n",
       "      <td>1</td>\n",
       "      <td>1</td>\n",
       "      <td>0</td>\n",
       "    </tr>\n",
       "  </tbody>\n",
       "</table>\n",
       "<p>8040 rows × 15 columns</p>\n",
       "</div>"
      ],
      "text/plain": [
       "      age  balance  day  duration  marital_divorced  marital_married  \\\n",
       "0      58     2143    5       261                 0                1   \n",
       "1      44       29    5       151                 0                0   \n",
       "2      33        2    5        76                 0                1   \n",
       "3      47     1506    5        92                 0                1   \n",
       "4      33        1    5       198                 0                0   \n",
       "...   ...      ...  ...       ...               ...              ...   \n",
       "8036   45      759    2       172                 0                1   \n",
       "8037   29      144    2       105                 0                0   \n",
       "8038   39      892    2        26                 1                0   \n",
       "8039   32      109    2       364                 0                1   \n",
       "8040   35      608    2       227                 0                0   \n",
       "\n",
       "      marital_single  default_no  default_yes  housing_no  housing_yes  \\\n",
       "0                  0           1            0           0            1   \n",
       "1                  1           1            0           0            1   \n",
       "2                  0           1            0           0            1   \n",
       "3                  0           1            0           0            1   \n",
       "4                  1           1            0           1            0   \n",
       "...              ...         ...          ...         ...          ...   \n",
       "8036               0           1            0           0            1   \n",
       "8037               1           1            0           0            1   \n",
       "8038               0           1            0           0            1   \n",
       "8039               0           1            0           0            1   \n",
       "8040               1           1            0           0            1   \n",
       "\n",
       "      loan_no  loan_yes  month_jun  month_may  \n",
       "0           1         0          0          1  \n",
       "1           1         0          0          1  \n",
       "2           0         1          0          1  \n",
       "3           1         0          0          1  \n",
       "4           1         0          0          1  \n",
       "...       ...       ...        ...        ...  \n",
       "8036        1         0          1          0  \n",
       "8037        1         0          1          0  \n",
       "8038        1         0          1          0  \n",
       "8039        1         0          1          0  \n",
       "8040        0         1          1          0  \n",
       "\n",
       "[8040 rows x 15 columns]"
      ]
     },
     "execution_count": 49,
     "metadata": {},
     "output_type": "execute_result"
    }
   ],
   "source": [
    "df_encoded = df_encoded[['age', 'balance', 'day', 'duration', 'marital_divorced', 'marital_married', 'marital_single', 'default_no', 'default_yes', 'housing_no', 'housing_yes', 'loan_no', 'loan_yes', 'month_jun', 'month_may']]\n",
    "df_encoded"
   ]
  },
  {
   "cell_type": "code",
   "execution_count": 50,
   "id": "7f3aedd5",
   "metadata": {},
   "outputs": [],
   "source": [
    "# Separate the features (X) and the target variable (y):\n",
    "X = df_encoded.drop('month_may', axis=1)\n",
    "y = df_encoded['month_may']"
   ]
  },
  {
   "cell_type": "code",
   "execution_count": 51,
   "id": "dbc0cd43",
   "metadata": {},
   "outputs": [
    {
     "data": {
      "text/html": [
       "<div>\n",
       "<style scoped>\n",
       "    .dataframe tbody tr th:only-of-type {\n",
       "        vertical-align: middle;\n",
       "    }\n",
       "\n",
       "    .dataframe tbody tr th {\n",
       "        vertical-align: top;\n",
       "    }\n",
       "\n",
       "    .dataframe thead th {\n",
       "        text-align: right;\n",
       "    }\n",
       "</style>\n",
       "<table border=\"1\" class=\"dataframe\">\n",
       "  <thead>\n",
       "    <tr style=\"text-align: right;\">\n",
       "      <th></th>\n",
       "      <th>age</th>\n",
       "      <th>balance</th>\n",
       "      <th>day</th>\n",
       "      <th>duration</th>\n",
       "      <th>marital_divorced</th>\n",
       "      <th>marital_married</th>\n",
       "      <th>marital_single</th>\n",
       "    </tr>\n",
       "  </thead>\n",
       "  <tbody>\n",
       "    <tr>\n",
       "      <th>0</th>\n",
       "      <td>58</td>\n",
       "      <td>2143</td>\n",
       "      <td>5</td>\n",
       "      <td>261</td>\n",
       "      <td>0</td>\n",
       "      <td>1</td>\n",
       "      <td>0</td>\n",
       "    </tr>\n",
       "    <tr>\n",
       "      <th>1</th>\n",
       "      <td>44</td>\n",
       "      <td>29</td>\n",
       "      <td>5</td>\n",
       "      <td>151</td>\n",
       "      <td>0</td>\n",
       "      <td>0</td>\n",
       "      <td>1</td>\n",
       "    </tr>\n",
       "    <tr>\n",
       "      <th>2</th>\n",
       "      <td>33</td>\n",
       "      <td>2</td>\n",
       "      <td>5</td>\n",
       "      <td>76</td>\n",
       "      <td>0</td>\n",
       "      <td>1</td>\n",
       "      <td>0</td>\n",
       "    </tr>\n",
       "    <tr>\n",
       "      <th>3</th>\n",
       "      <td>47</td>\n",
       "      <td>1506</td>\n",
       "      <td>5</td>\n",
       "      <td>92</td>\n",
       "      <td>0</td>\n",
       "      <td>1</td>\n",
       "      <td>0</td>\n",
       "    </tr>\n",
       "    <tr>\n",
       "      <th>4</th>\n",
       "      <td>33</td>\n",
       "      <td>1</td>\n",
       "      <td>5</td>\n",
       "      <td>198</td>\n",
       "      <td>0</td>\n",
       "      <td>0</td>\n",
       "      <td>1</td>\n",
       "    </tr>\n",
       "    <tr>\n",
       "      <th>...</th>\n",
       "      <td>...</td>\n",
       "      <td>...</td>\n",
       "      <td>...</td>\n",
       "      <td>...</td>\n",
       "      <td>...</td>\n",
       "      <td>...</td>\n",
       "      <td>...</td>\n",
       "    </tr>\n",
       "    <tr>\n",
       "      <th>8036</th>\n",
       "      <td>45</td>\n",
       "      <td>759</td>\n",
       "      <td>2</td>\n",
       "      <td>172</td>\n",
       "      <td>0</td>\n",
       "      <td>1</td>\n",
       "      <td>0</td>\n",
       "    </tr>\n",
       "    <tr>\n",
       "      <th>8037</th>\n",
       "      <td>29</td>\n",
       "      <td>144</td>\n",
       "      <td>2</td>\n",
       "      <td>105</td>\n",
       "      <td>0</td>\n",
       "      <td>0</td>\n",
       "      <td>1</td>\n",
       "    </tr>\n",
       "    <tr>\n",
       "      <th>8038</th>\n",
       "      <td>39</td>\n",
       "      <td>892</td>\n",
       "      <td>2</td>\n",
       "      <td>26</td>\n",
       "      <td>1</td>\n",
       "      <td>0</td>\n",
       "      <td>0</td>\n",
       "    </tr>\n",
       "    <tr>\n",
       "      <th>8039</th>\n",
       "      <td>32</td>\n",
       "      <td>109</td>\n",
       "      <td>2</td>\n",
       "      <td>364</td>\n",
       "      <td>0</td>\n",
       "      <td>1</td>\n",
       "      <td>0</td>\n",
       "    </tr>\n",
       "    <tr>\n",
       "      <th>8040</th>\n",
       "      <td>35</td>\n",
       "      <td>608</td>\n",
       "      <td>2</td>\n",
       "      <td>227</td>\n",
       "      <td>0</td>\n",
       "      <td>0</td>\n",
       "      <td>1</td>\n",
       "    </tr>\n",
       "  </tbody>\n",
       "</table>\n",
       "<p>8040 rows × 7 columns</p>\n",
       "</div>"
      ],
      "text/plain": [
       "      age  balance  day  duration  marital_divorced  marital_married  \\\n",
       "0      58     2143    5       261                 0                1   \n",
       "1      44       29    5       151                 0                0   \n",
       "2      33        2    5        76                 0                1   \n",
       "3      47     1506    5        92                 0                1   \n",
       "4      33        1    5       198                 0                0   \n",
       "...   ...      ...  ...       ...               ...              ...   \n",
       "8036   45      759    2       172                 0                1   \n",
       "8037   29      144    2       105                 0                0   \n",
       "8038   39      892    2        26                 1                0   \n",
       "8039   32      109    2       364                 0                1   \n",
       "8040   35      608    2       227                 0                0   \n",
       "\n",
       "      marital_single  \n",
       "0                  0  \n",
       "1                  1  \n",
       "2                  0  \n",
       "3                  0  \n",
       "4                  1  \n",
       "...              ...  \n",
       "8036               0  \n",
       "8037               1  \n",
       "8038               0  \n",
       "8039               0  \n",
       "8040               1  \n",
       "\n",
       "[8040 rows x 7 columns]"
      ]
     },
     "execution_count": 51,
     "metadata": {},
     "output_type": "execute_result"
    }
   ],
   "source": [
    "final = df_encoded.drop(['default_no', 'default_yes', 'housing_no', 'housing_yes', 'loan_no', 'loan_yes', 'month_jun', 'month_may'],axis='columns')\n",
    "final"
   ]
  }
 ],
 "metadata": {
  "kernelspec": {
   "display_name": "Python 3 (ipykernel)",
   "language": "python",
   "name": "python3"
  },
  "language_info": {
   "codemirror_mode": {
    "name": "ipython",
    "version": 3
   },
   "file_extension": ".py",
   "mimetype": "text/x-python",
   "name": "python",
   "nbconvert_exporter": "python",
   "pygments_lexer": "ipython3",
   "version": "3.10.9"
  }
 },
 "nbformat": 4,
 "nbformat_minor": 5
}
